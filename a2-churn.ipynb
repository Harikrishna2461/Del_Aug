{
 "cells": [
  {
   "cell_type": "code",
   "execution_count": 1,
   "id": "2b413b46",
   "metadata": {
    "execution": {
     "iopub.execute_input": "2023-08-27T19:16:26.474187Z",
     "iopub.status.busy": "2023-08-27T19:16:26.473291Z",
     "iopub.status.idle": "2023-08-27T19:16:28.219627Z",
     "shell.execute_reply": "2023-08-27T19:16:28.218509Z"
    },
    "papermill": {
     "duration": 1.777633,
     "end_time": "2023-08-27T19:16:28.222605",
     "exception": false,
     "start_time": "2023-08-27T19:16:26.444972",
     "status": "completed"
    },
    "tags": []
   },
   "outputs": [
    {
     "name": "stderr",
     "output_type": "stream",
     "text": [
      "/opt/conda/lib/python3.10/site-packages/scipy/__init__.py:146: UserWarning: A NumPy version >=1.16.5 and <1.23.0 is required for this version of SciPy (detected version 1.23.5\n",
      "  warnings.warn(f\"A NumPy version >={np_minversion} and <{np_maxversion}\"\n"
     ]
    }
   ],
   "source": [
    "import pandas as pd\n",
    "import numpy as np\n",
    "import matplotlib.pyplot as plt\n",
    "import seaborn as sns\n",
    "from tabulate import tabulate"
   ]
  },
  {
   "cell_type": "code",
   "execution_count": 2,
   "id": "a65b3c02",
   "metadata": {
    "execution": {
     "iopub.execute_input": "2023-08-27T19:16:28.274530Z",
     "iopub.status.busy": "2023-08-27T19:16:28.273449Z",
     "iopub.status.idle": "2023-08-27T19:16:49.655485Z",
     "shell.execute_reply": "2023-08-27T19:16:49.654142Z"
    },
    "papermill": {
     "duration": 21.412025,
     "end_time": "2023-08-27T19:16:49.659056",
     "exception": false,
     "start_time": "2023-08-27T19:16:28.247031",
     "status": "completed"
    },
    "tags": []
   },
   "outputs": [],
   "source": [
    "account_info = pd.read_excel('/kaggle/input/churn-dataset/Customer_account_info.xlsx')\n",
    "demographics = pd.read_excel('/kaggle/input/churn-dataset/Customer_demographics.xlsx')\n",
    "churn = pd.read_csv('/kaggle/input/churn-dataset/Customer_Churn.csv')\n",
    "customer_services = pd.read_excel('/kaggle/input/churn-dataset/Customer_services.xlsx')"
   ]
  },
  {
   "cell_type": "code",
   "execution_count": 3,
   "id": "7befab97",
   "metadata": {
    "execution": {
     "iopub.execute_input": "2023-08-27T19:16:49.711923Z",
     "iopub.status.busy": "2023-08-27T19:16:49.711489Z",
     "iopub.status.idle": "2023-08-27T19:16:49.720490Z",
     "shell.execute_reply": "2023-08-27T19:16:49.719057Z"
    },
    "papermill": {
     "duration": 0.038784,
     "end_time": "2023-08-27T19:16:49.723359",
     "exception": false,
     "start_time": "2023-08-27T19:16:49.684575",
     "status": "completed"
    },
    "tags": []
   },
   "outputs": [
    {
     "data": {
      "text/plain": [
       "Index(['customerID', 'tenure', 'Contract', 'PaperlessBilling', 'PaymentMethod',\n",
       "       'MonthlyCharges', 'TotalCharges'],\n",
       "      dtype='object')"
      ]
     },
     "execution_count": 3,
     "metadata": {},
     "output_type": "execute_result"
    }
   ],
   "source": [
    "account_info.columns"
   ]
  },
  {
   "cell_type": "code",
   "execution_count": 4,
   "id": "7ec669b6",
   "metadata": {
    "execution": {
     "iopub.execute_input": "2023-08-27T19:16:49.776216Z",
     "iopub.status.busy": "2023-08-27T19:16:49.775807Z",
     "iopub.status.idle": "2023-08-27T19:16:49.784825Z",
     "shell.execute_reply": "2023-08-27T19:16:49.783012Z"
    },
    "papermill": {
     "duration": 0.038554,
     "end_time": "2023-08-27T19:16:49.787668",
     "exception": false,
     "start_time": "2023-08-27T19:16:49.749114",
     "status": "completed"
    },
    "tags": []
   },
   "outputs": [
    {
     "data": {
      "text/plain": [
       "Index(['customerID', 'gender', 'SeniorCitizen', 'Partner', 'Dependents'], dtype='object')"
      ]
     },
     "execution_count": 4,
     "metadata": {},
     "output_type": "execute_result"
    }
   ],
   "source": [
    "demographics.columns"
   ]
  },
  {
   "cell_type": "code",
   "execution_count": 5,
   "id": "c0799509",
   "metadata": {
    "execution": {
     "iopub.execute_input": "2023-08-27T19:16:49.841316Z",
     "iopub.status.busy": "2023-08-27T19:16:49.840850Z",
     "iopub.status.idle": "2023-08-27T19:16:49.849475Z",
     "shell.execute_reply": "2023-08-27T19:16:49.848219Z"
    },
    "papermill": {
     "duration": 0.038877,
     "end_time": "2023-08-27T19:16:49.852287",
     "exception": false,
     "start_time": "2023-08-27T19:16:49.813410",
     "status": "completed"
    },
    "tags": []
   },
   "outputs": [
    {
     "data": {
      "text/plain": [
       "Index(['customerID', 'PhoneService', 'MultipleLines', 'InternetService',\n",
       "       'OnlineSecurity', 'OnlineBackup', 'DeviceProtection', 'TechSupport',\n",
       "       'StreamingTV', 'StreamingMovies'],\n",
       "      dtype='object')"
      ]
     },
     "execution_count": 5,
     "metadata": {},
     "output_type": "execute_result"
    }
   ],
   "source": [
    "customer_services.columns"
   ]
  },
  {
   "cell_type": "code",
   "execution_count": 6,
   "id": "0ecf1e53",
   "metadata": {
    "execution": {
     "iopub.execute_input": "2023-08-27T19:16:49.904397Z",
     "iopub.status.busy": "2023-08-27T19:16:49.903973Z",
     "iopub.status.idle": "2023-08-27T19:16:49.912153Z",
     "shell.execute_reply": "2023-08-27T19:16:49.910792Z"
    },
    "papermill": {
     "duration": 0.036839,
     "end_time": "2023-08-27T19:16:49.914629",
     "exception": false,
     "start_time": "2023-08-27T19:16:49.877790",
     "status": "completed"
    },
    "tags": []
   },
   "outputs": [
    {
     "data": {
      "text/plain": [
       "Index(['customerID', 'Churn'], dtype='object')"
      ]
     },
     "execution_count": 6,
     "metadata": {},
     "output_type": "execute_result"
    }
   ],
   "source": [
    "churn.columns"
   ]
  },
  {
   "cell_type": "code",
   "execution_count": 7,
   "id": "04d14663",
   "metadata": {
    "execution": {
     "iopub.execute_input": "2023-08-27T19:16:49.967169Z",
     "iopub.status.busy": "2023-08-27T19:16:49.966711Z",
     "iopub.status.idle": "2023-08-27T19:16:50.162511Z",
     "shell.execute_reply": "2023-08-27T19:16:50.161022Z"
    },
    "papermill": {
     "duration": 0.225476,
     "end_time": "2023-08-27T19:16:50.165582",
     "exception": false,
     "start_time": "2023-08-27T19:16:49.940106",
     "status": "completed"
    },
    "tags": []
   },
   "outputs": [],
   "source": [
    "merged_data = pd.merge(account_info , demographics, on=\"customerID\")\n",
    "merged_data1 = pd.merge(merged_data , customer_services, on=\"customerID\")\n",
    "final_merged_data = pd.merge(merged_data1 , churn, on=\"customerID\")"
   ]
  },
  {
   "cell_type": "code",
   "execution_count": 8,
   "id": "3a845e21",
   "metadata": {
    "execution": {
     "iopub.execute_input": "2023-08-27T19:16:50.218234Z",
     "iopub.status.busy": "2023-08-27T19:16:50.217846Z",
     "iopub.status.idle": "2023-08-27T19:16:50.446046Z",
     "shell.execute_reply": "2023-08-27T19:16:50.443578Z"
    },
    "papermill": {
     "duration": 0.258391,
     "end_time": "2023-08-27T19:16:50.448931",
     "exception": false,
     "start_time": "2023-08-27T19:16:50.190540",
     "status": "completed"
    },
    "tags": []
   },
   "outputs": [
    {
     "name": "stdout",
     "output_type": "stream",
     "text": [
      "<class 'pandas.core.frame.DataFrame'>\n",
      "Int64Index: 34413 entries, 0 to 34412\n",
      "Data columns (total 21 columns):\n",
      " #   Column            Non-Null Count  Dtype  \n",
      "---  ------            --------------  -----  \n",
      " 0   customerID        34413 non-null  object \n",
      " 1   tenure            34397 non-null  float64\n",
      " 2   Contract          34406 non-null  object \n",
      " 3   PaperlessBilling  34380 non-null  object \n",
      " 4   PaymentMethod     34364 non-null  object \n",
      " 5   MonthlyCharges    34400 non-null  float64\n",
      " 6   TotalCharges      34403 non-null  object \n",
      " 7   gender            34408 non-null  object \n",
      " 8   SeniorCitizen     34371 non-null  float64\n",
      " 9   Partner           34413 non-null  object \n",
      " 10  Dependents        34413 non-null  object \n",
      " 11  PhoneService      34401 non-null  object \n",
      " 12  MultipleLines     34413 non-null  object \n",
      " 13  InternetService   34413 non-null  object \n",
      " 14  OnlineSecurity    34376 non-null  object \n",
      " 15  OnlineBackup      34413 non-null  object \n",
      " 16  DeviceProtection  34413 non-null  object \n",
      " 17  TechSupport       34378 non-null  object \n",
      " 18  StreamingTV       34413 non-null  object \n",
      " 19  StreamingMovies   34413 non-null  object \n",
      " 20  Churn             34413 non-null  object \n",
      "dtypes: float64(3), object(18)\n",
      "memory usage: 5.8+ MB\n"
     ]
    }
   ],
   "source": [
    "final_merged_data.info()"
   ]
  },
  {
   "cell_type": "code",
   "execution_count": 9,
   "id": "f2f1add0",
   "metadata": {
    "execution": {
     "iopub.execute_input": "2023-08-27T19:16:50.501776Z",
     "iopub.status.busy": "2023-08-27T19:16:50.501371Z",
     "iopub.status.idle": "2023-08-27T19:16:50.719026Z",
     "shell.execute_reply": "2023-08-27T19:16:50.716373Z"
    },
    "papermill": {
     "duration": 0.24837,
     "end_time": "2023-08-27T19:16:50.722383",
     "exception": false,
     "start_time": "2023-08-27T19:16:50.474013",
     "status": "completed"
    },
    "tags": []
   },
   "outputs": [
    {
     "name": "stdout",
     "output_type": "stream",
     "text": [
      "Column: tenure\n",
      "Null Count: 16\n",
      "Null Percentage: 0.05%\n",
      "====================\n",
      "Column: Contract\n",
      "Null Count: 7\n",
      "Null Percentage: 0.02%\n",
      "====================\n",
      "Column: PaperlessBilling\n",
      "Null Count: 33\n",
      "Null Percentage: 0.10%\n",
      "====================\n",
      "Column: PaymentMethod\n",
      "Null Count: 49\n",
      "Null Percentage: 0.14%\n",
      "====================\n",
      "Column: MonthlyCharges\n",
      "Null Count: 13\n",
      "Null Percentage: 0.04%\n",
      "====================\n",
      "Column: TotalCharges\n",
      "Null Count: 10\n",
      "Null Percentage: 0.03%\n",
      "====================\n",
      "Column: gender\n",
      "Null Count: 5\n",
      "Null Percentage: 0.01%\n",
      "====================\n",
      "Column: SeniorCitizen\n",
      "Null Count: 42\n",
      "Null Percentage: 0.12%\n",
      "====================\n",
      "Column: PhoneService\n",
      "Null Count: 12\n",
      "Null Percentage: 0.03%\n",
      "====================\n",
      "Column: OnlineSecurity\n",
      "Null Count: 37\n",
      "Null Percentage: 0.11%\n",
      "====================\n",
      "Column: TechSupport\n",
      "Null Count: 35\n",
      "Null Percentage: 0.10%\n",
      "====================\n"
     ]
    }
   ],
   "source": [
    "# Calculate the number of null values in each column\n",
    "null_counts = final_merged_data.isnull().sum()\n",
    "\n",
    "# Calculate the percentage of null values in each column\n",
    "null_percentages = (null_counts / len(final_merged_data)) * 100\n",
    "\n",
    "# Create a DataFrame to store the results\n",
    "null_info = pd.DataFrame({\n",
    "    \"Column\": null_counts.index,\n",
    "    \"Null Count\": null_counts.values,\n",
    "    \"Null Percentage\": null_percentages.values\n",
    "})\n",
    "\n",
    "# Filter columns with null values\n",
    "columns_with_null = null_info[null_info[\"Null Count\"] > 0]\n",
    "\n",
    "# Print columns with null values and their information\n",
    "for index, row in columns_with_null.iterrows():\n",
    "    print(f\"Column: {row['Column']}\")\n",
    "    print(f\"Null Count: {row['Null Count']}\")\n",
    "    print(f\"Null Percentage: {row['Null Percentage']:.2f}%\")\n",
    "    print(\"=\" * 20)"
   ]
  },
  {
   "cell_type": "code",
   "execution_count": 10,
   "id": "d5424bc3",
   "metadata": {
    "execution": {
     "iopub.execute_input": "2023-08-27T19:16:50.778500Z",
     "iopub.status.busy": "2023-08-27T19:16:50.778078Z",
     "iopub.status.idle": "2023-08-27T19:16:50.788415Z",
     "shell.execute_reply": "2023-08-27T19:16:50.786631Z"
    },
    "papermill": {
     "duration": 0.041157,
     "end_time": "2023-08-27T19:16:50.791470",
     "exception": false,
     "start_time": "2023-08-27T19:16:50.750313",
     "status": "completed"
    },
    "tags": []
   },
   "outputs": [
    {
     "name": "stdout",
     "output_type": "stream",
     "text": [
      "+----+------------------+--------------+-------------------+\n",
      "|    | Column           |   Null Count |   Null Percentage |\n",
      "|----+------------------+--------------+-------------------|\n",
      "|  1 | tenure           |           16 |         0.0464941 |\n",
      "|  2 | Contract         |            7 |         0.0203412 |\n",
      "|  3 | PaperlessBilling |           33 |         0.095894  |\n",
      "|  4 | PaymentMethod    |           49 |         0.142388  |\n",
      "|  5 | MonthlyCharges   |           13 |         0.0377764 |\n",
      "|  6 | TotalCharges     |           10 |         0.0290588 |\n",
      "|  7 | gender           |            5 |         0.0145294 |\n",
      "|  8 | SeniorCitizen    |           42 |         0.122047  |\n",
      "| 11 | PhoneService     |           12 |         0.0348705 |\n",
      "| 14 | OnlineSecurity   |           37 |         0.107518  |\n",
      "| 17 | TechSupport      |           35 |         0.101706  |\n",
      "+----+------------------+--------------+-------------------+\n"
     ]
    }
   ],
   "source": [
    "print(tabulate(columns_with_null, headers='keys', tablefmt='psql'))"
   ]
  },
  {
   "cell_type": "markdown",
   "id": "222348eb",
   "metadata": {
    "papermill": {
     "duration": 0.029614,
     "end_time": "2023-08-27T19:16:50.849944",
     "exception": false,
     "start_time": "2023-08-27T19:16:50.820330",
     "status": "completed"
    },
    "tags": []
   },
   "source": [
    "# We can see that PaymentMethod,SeniorCitizen,OnlineSecurity and TechSupport have Comparitively Higher Number of Null Values"
   ]
  },
  {
   "cell_type": "code",
   "execution_count": 11,
   "id": "e7a8c248",
   "metadata": {
    "execution": {
     "iopub.execute_input": "2023-08-27T19:16:50.906692Z",
     "iopub.status.busy": "2023-08-27T19:16:50.906272Z",
     "iopub.status.idle": "2023-08-27T19:16:50.920816Z",
     "shell.execute_reply": "2023-08-27T19:16:50.919298Z"
    },
    "papermill": {
     "duration": 0.046069,
     "end_time": "2023-08-27T19:16:50.923420",
     "exception": false,
     "start_time": "2023-08-27T19:16:50.877351",
     "status": "completed"
    },
    "tags": []
   },
   "outputs": [
    {
     "data": {
      "text/plain": [
       "Mailed check                 10643\n",
       "Electronic check              9566\n",
       "Bank transfer (automatic)     8656\n",
       "Credit card (automatic)       5499\n",
       "Name: PaymentMethod, dtype: int64"
      ]
     },
     "execution_count": 11,
     "metadata": {},
     "output_type": "execute_result"
    }
   ],
   "source": [
    "final_merged_data['PaymentMethod'].value_counts()"
   ]
  },
  {
   "cell_type": "code",
   "execution_count": 12,
   "id": "806842ed",
   "metadata": {
    "execution": {
     "iopub.execute_input": "2023-08-27T19:16:50.977537Z",
     "iopub.status.busy": "2023-08-27T19:16:50.977119Z",
     "iopub.status.idle": "2023-08-27T19:16:50.991742Z",
     "shell.execute_reply": "2023-08-27T19:16:50.990367Z"
    },
    "papermill": {
     "duration": 0.045127,
     "end_time": "2023-08-27T19:16:50.994805",
     "exception": false,
     "start_time": "2023-08-27T19:16:50.949678",
     "status": "completed"
    },
    "tags": []
   },
   "outputs": [
    {
     "data": {
      "text/plain": [
       "No                     16890\n",
       "Yes                    12216\n",
       "No internet service     5270\n",
       "Name: OnlineSecurity, dtype: int64"
      ]
     },
     "execution_count": 12,
     "metadata": {},
     "output_type": "execute_result"
    }
   ],
   "source": [
    "final_merged_data['OnlineSecurity'].value_counts()"
   ]
  },
  {
   "cell_type": "code",
   "execution_count": 13,
   "id": "9857d087",
   "metadata": {
    "execution": {
     "iopub.execute_input": "2023-08-27T19:16:51.057201Z",
     "iopub.status.busy": "2023-08-27T19:16:51.056636Z",
     "iopub.status.idle": "2023-08-27T19:16:51.071401Z",
     "shell.execute_reply": "2023-08-27T19:16:51.070128Z"
    },
    "papermill": {
     "duration": 0.046009,
     "end_time": "2023-08-27T19:16:51.073949",
     "exception": false,
     "start_time": "2023-08-27T19:16:51.027940",
     "status": "completed"
    },
    "tags": []
   },
   "outputs": [
    {
     "data": {
      "text/plain": [
       "No                     16860\n",
       "Yes                    12341\n",
       "No internet service     5177\n",
       "Name: TechSupport, dtype: int64"
      ]
     },
     "execution_count": 13,
     "metadata": {},
     "output_type": "execute_result"
    }
   ],
   "source": [
    "final_merged_data['TechSupport'].value_counts()"
   ]
  },
  {
   "cell_type": "code",
   "execution_count": 14,
   "id": "d6c3b186",
   "metadata": {
    "execution": {
     "iopub.execute_input": "2023-08-27T19:16:51.129265Z",
     "iopub.status.busy": "2023-08-27T19:16:51.128865Z",
     "iopub.status.idle": "2023-08-27T19:16:51.378616Z",
     "shell.execute_reply": "2023-08-27T19:16:51.376983Z"
    },
    "papermill": {
     "duration": 0.279614,
     "end_time": "2023-08-27T19:16:51.381467",
     "exception": false,
     "start_time": "2023-08-27T19:16:51.101853",
     "status": "completed"
    },
    "tags": []
   },
   "outputs": [
    {
     "name": "stdout",
     "output_type": "stream",
     "text": [
      "+----+------------------+--------------+\n",
      "|    | Column           |   Null Count |\n",
      "|----+------------------+--------------|\n",
      "|  1 | tenure           |           16 |\n",
      "|  2 | Contract         |            7 |\n",
      "|  3 | PaperlessBilling |           33 |\n",
      "|  5 | MonthlyCharges   |           13 |\n",
      "|  6 | TotalCharges     |           10 |\n",
      "|  7 | gender           |            5 |\n",
      "| 11 | PhoneService     |           12 |\n",
      "+----+------------------+--------------+\n"
     ]
    }
   ],
   "source": [
    "# Impute categorical columns with the most frequent value\n",
    "columns_to_impute = [\"PaymentMethod\", \"OnlineSecurity\", \"TechSupport\",\"SeniorCitizen\"]\n",
    "for col in columns_to_impute:\n",
    "    most_frequent_value = final_merged_data[col].mode()[0]\n",
    "    final_merged_data[col].fillna(most_frequent_value, inplace=True)\n",
    "\n",
    "# Calculate the number of null values in each column after imputation\n",
    "null_counts_after_imputation = final_merged_data.isnull().sum()\n",
    "\n",
    "# Create a DataFrame to store the results after imputation\n",
    "null_info_after_imputation = pd.DataFrame({\n",
    "    \"Column\": null_counts_after_imputation.index,\n",
    "    \"Null Count\": null_counts_after_imputation.values\n",
    "})\n",
    "\n",
    "# Print columns with remaining null values and their information as a table\n",
    "columns_with_null_after_imputation = null_info_after_imputation[null_info_after_imputation[\"Null Count\"] > 0]\n",
    "print(tabulate(columns_with_null_after_imputation, headers='keys', tablefmt='psql'))"
   ]
  },
  {
   "cell_type": "markdown",
   "id": "76da86cf",
   "metadata": {
    "papermill": {
     "duration": 0.026255,
     "end_time": "2023-08-27T19:16:51.434652",
     "exception": false,
     "start_time": "2023-08-27T19:16:51.408397",
     "status": "completed"
    },
    "tags": []
   },
   "source": [
    "# Let us do a similar imputation on other columns as well.For TotalCharges we fill null values with mean,for other columns if null percentage is less than 5% then drop those rows,if more then fill those values with mode of that column."
   ]
  },
  {
   "cell_type": "code",
   "execution_count": 15,
   "id": "45596eca",
   "metadata": {
    "execution": {
     "iopub.execute_input": "2023-08-27T19:16:51.490685Z",
     "iopub.status.busy": "2023-08-27T19:16:51.490250Z",
     "iopub.status.idle": "2023-08-27T19:16:51.498300Z",
     "shell.execute_reply": "2023-08-27T19:16:51.497208Z"
    },
    "papermill": {
     "duration": 0.038891,
     "end_time": "2023-08-27T19:16:51.500918",
     "exception": false,
     "start_time": "2023-08-27T19:16:51.462027",
     "status": "completed"
    },
    "tags": []
   },
   "outputs": [
    {
     "data": {
      "text/plain": [
       "float"
      ]
     },
     "execution_count": 15,
     "metadata": {},
     "output_type": "execute_result"
    }
   ],
   "source": [
    "type(final_merged_data[\"TotalCharges\"][272])"
   ]
  },
  {
   "cell_type": "code",
   "execution_count": 16,
   "id": "137f238a",
   "metadata": {
    "execution": {
     "iopub.execute_input": "2023-08-27T19:16:51.555340Z",
     "iopub.status.busy": "2023-08-27T19:16:51.554873Z",
     "iopub.status.idle": "2023-08-27T19:16:51.592643Z",
     "shell.execute_reply": "2023-08-27T19:16:51.591390Z"
    },
    "papermill": {
     "duration": 0.068558,
     "end_time": "2023-08-27T19:16:51.595500",
     "exception": false,
     "start_time": "2023-08-27T19:16:51.526942",
     "status": "completed"
    },
    "tags": []
   },
   "outputs": [],
   "source": [
    "list1 = []\n",
    "list2 = list(final_merged_data[\"TotalCharges\"])\n",
    "for val in list2:\n",
    "    if type(val) == float:\n",
    "        list1.append(float(val))\n",
    "mean_total_charges = sum(list1)/len(list1)\n",
    "final_merged_data[\"TotalCharges\"].fillna(mean_total_charges, inplace=True)"
   ]
  },
  {
   "cell_type": "code",
   "execution_count": 17,
   "id": "290f7ce4",
   "metadata": {
    "execution": {
     "iopub.execute_input": "2023-08-27T19:16:51.650428Z",
     "iopub.status.busy": "2023-08-27T19:16:51.649135Z",
     "iopub.status.idle": "2023-08-27T19:16:52.113799Z",
     "shell.execute_reply": "2023-08-27T19:16:52.112258Z"
    },
    "papermill": {
     "duration": 0.495324,
     "end_time": "2023-08-27T19:16:52.116840",
     "exception": false,
     "start_time": "2023-08-27T19:16:51.621516",
     "status": "completed"
    },
    "tags": []
   },
   "outputs": [],
   "source": [
    "# Calculate the percentage of null values in each column\n",
    "null_percentage = (final_merged_data.isnull().sum() / len(final_merged_data)) * 100\n",
    "\n",
    "# Columns to drop rows with null values if percentage is less than 0.05%\n",
    "columns_to_drop = null_percentage[null_percentage <= 0.05].index\n",
    "final_merged_data.dropna(subset=columns_to_drop, inplace=True)\n",
    "\n",
    "# Columns to fill with mode if null percentage is more than 5%\n",
    "columns_to_fill_with_mode = null_percentage[null_percentage > 0.05].index\n",
    "for col in columns_to_fill_with_mode:\n",
    "    mode_value = final_merged_data[col].mode()[0]\n",
    "    final_merged_data[col].fillna(mode_value, inplace=True)"
   ]
  },
  {
   "cell_type": "code",
   "execution_count": 18,
   "id": "7c508d17",
   "metadata": {
    "execution": {
     "iopub.execute_input": "2023-08-27T19:16:52.182730Z",
     "iopub.status.busy": "2023-08-27T19:16:52.182325Z",
     "iopub.status.idle": "2023-08-27T19:16:52.191206Z",
     "shell.execute_reply": "2023-08-27T19:16:52.189977Z"
    },
    "papermill": {
     "duration": 0.051592,
     "end_time": "2023-08-27T19:16:52.194927",
     "exception": false,
     "start_time": "2023-08-27T19:16:52.143335",
     "status": "completed"
    },
    "tags": []
   },
   "outputs": [
    {
     "data": {
      "text/plain": [
       "21"
      ]
     },
     "execution_count": 18,
     "metadata": {},
     "output_type": "execute_result"
    }
   ],
   "source": [
    "len(list(final_merged_data.columns))"
   ]
  },
  {
   "cell_type": "code",
   "execution_count": 19,
   "id": "190985d6",
   "metadata": {
    "execution": {
     "iopub.execute_input": "2023-08-27T19:16:52.268177Z",
     "iopub.status.busy": "2023-08-27T19:16:52.267783Z",
     "iopub.status.idle": "2023-08-27T19:16:52.477099Z",
     "shell.execute_reply": "2023-08-27T19:16:52.476085Z"
    },
    "papermill": {
     "duration": 0.250628,
     "end_time": "2023-08-27T19:16:52.479867",
     "exception": false,
     "start_time": "2023-08-27T19:16:52.229239",
     "status": "completed"
    },
    "tags": []
   },
   "outputs": [
    {
     "name": "stdout",
     "output_type": "stream",
     "text": [
      "+----------+--------------+\n",
      "| Column   | Null Count   |\n",
      "|----------+--------------|\n",
      "+----------+--------------+\n"
     ]
    }
   ],
   "source": [
    "# Calculate the number of null values in each column after imputation\n",
    "null_counts_after_imputation = final_merged_data.isnull().sum()\n",
    "\n",
    "# Create a DataFrame to store the results after imputation\n",
    "null_info_after_imputation = pd.DataFrame({\n",
    "    \"Column\": null_counts_after_imputation.index,\n",
    "    \"Null Count\": null_counts_after_imputation.values\n",
    "})\n",
    "\n",
    "# Print columns with remaining null values and their information as a table\n",
    "columns_with_null_after_imputation = null_info_after_imputation[null_info_after_imputation[\"Null Count\"] > 0]\n",
    "print(tabulate(columns_with_null_after_imputation, headers='keys', tablefmt='psql'))"
   ]
  },
  {
   "cell_type": "markdown",
   "id": "4f085f37",
   "metadata": {
    "papermill": {
     "duration": 0.027212,
     "end_time": "2023-08-27T19:16:52.533831",
     "exception": false,
     "start_time": "2023-08-27T19:16:52.506619",
     "status": "completed"
    },
    "tags": []
   },
   "source": [
    "# Statistics"
   ]
  },
  {
   "cell_type": "code",
   "execution_count": 20,
   "id": "2a1b0fe6",
   "metadata": {
    "execution": {
     "iopub.execute_input": "2023-08-27T19:16:52.589283Z",
     "iopub.status.busy": "2023-08-27T19:16:52.588771Z",
     "iopub.status.idle": "2023-08-27T19:16:52.626561Z",
     "shell.execute_reply": "2023-08-27T19:16:52.625424Z"
    },
    "papermill": {
     "duration": 0.06877,
     "end_time": "2023-08-27T19:16:52.628987",
     "exception": false,
     "start_time": "2023-08-27T19:16:52.560217",
     "status": "completed"
    },
    "tags": []
   },
   "outputs": [
    {
     "data": {
      "text/html": [
       "<div>\n",
       "<style scoped>\n",
       "    .dataframe tbody tr th:only-of-type {\n",
       "        vertical-align: middle;\n",
       "    }\n",
       "\n",
       "    .dataframe tbody tr th {\n",
       "        vertical-align: top;\n",
       "    }\n",
       "\n",
       "    .dataframe thead th {\n",
       "        text-align: right;\n",
       "    }\n",
       "</style>\n",
       "<table border=\"1\" class=\"dataframe\">\n",
       "  <thead>\n",
       "    <tr style=\"text-align: right;\">\n",
       "      <th></th>\n",
       "      <th>tenure</th>\n",
       "      <th>MonthlyCharges</th>\n",
       "      <th>SeniorCitizen</th>\n",
       "    </tr>\n",
       "  </thead>\n",
       "  <tbody>\n",
       "    <tr>\n",
       "      <th>count</th>\n",
       "      <td>34353.000000</td>\n",
       "      <td>34353.000000</td>\n",
       "      <td>34353.000000</td>\n",
       "    </tr>\n",
       "    <tr>\n",
       "      <th>mean</th>\n",
       "      <td>32.917067</td>\n",
       "      <td>65.052501</td>\n",
       "      <td>0.178995</td>\n",
       "    </tr>\n",
       "    <tr>\n",
       "      <th>std</th>\n",
       "      <td>21.393737</td>\n",
       "      <td>27.493138</td>\n",
       "      <td>0.383353</td>\n",
       "    </tr>\n",
       "    <tr>\n",
       "      <th>min</th>\n",
       "      <td>0.000000</td>\n",
       "      <td>18.250000</td>\n",
       "      <td>0.000000</td>\n",
       "    </tr>\n",
       "    <tr>\n",
       "      <th>25%</th>\n",
       "      <td>16.000000</td>\n",
       "      <td>44.304684</td>\n",
       "      <td>0.000000</td>\n",
       "    </tr>\n",
       "    <tr>\n",
       "      <th>50%</th>\n",
       "      <td>32.000000</td>\n",
       "      <td>64.884369</td>\n",
       "      <td>0.000000</td>\n",
       "    </tr>\n",
       "    <tr>\n",
       "      <th>75%</th>\n",
       "      <td>49.000000</td>\n",
       "      <td>84.932072</td>\n",
       "      <td>0.000000</td>\n",
       "    </tr>\n",
       "    <tr>\n",
       "      <th>max</th>\n",
       "      <td>72.000000</td>\n",
       "      <td>118.750000</td>\n",
       "      <td>1.000000</td>\n",
       "    </tr>\n",
       "  </tbody>\n",
       "</table>\n",
       "</div>"
      ],
      "text/plain": [
       "             tenure  MonthlyCharges  SeniorCitizen\n",
       "count  34353.000000    34353.000000   34353.000000\n",
       "mean      32.917067       65.052501       0.178995\n",
       "std       21.393737       27.493138       0.383353\n",
       "min        0.000000       18.250000       0.000000\n",
       "25%       16.000000       44.304684       0.000000\n",
       "50%       32.000000       64.884369       0.000000\n",
       "75%       49.000000       84.932072       0.000000\n",
       "max       72.000000      118.750000       1.000000"
      ]
     },
     "execution_count": 20,
     "metadata": {},
     "output_type": "execute_result"
    }
   ],
   "source": [
    "final_merged_data.describe()"
   ]
  },
  {
   "cell_type": "markdown",
   "id": "7647e947",
   "metadata": {
    "papermill": {
     "duration": 0.027126,
     "end_time": "2023-08-27T19:16:52.683192",
     "exception": false,
     "start_time": "2023-08-27T19:16:52.656066",
     "status": "completed"
    },
    "tags": []
   },
   "source": [
    "# Add Boxplots to Find Outliers"
   ]
  },
  {
   "cell_type": "code",
   "execution_count": null,
   "id": "b94f0469",
   "metadata": {
    "papermill": {
     "duration": 0.025801,
     "end_time": "2023-08-27T19:16:52.736365",
     "exception": false,
     "start_time": "2023-08-27T19:16:52.710564",
     "status": "completed"
    },
    "tags": []
   },
   "outputs": [],
   "source": []
  },
  {
   "cell_type": "markdown",
   "id": "f5252a94",
   "metadata": {
    "papermill": {
     "duration": 0.025876,
     "end_time": "2023-08-27T19:16:52.788345",
     "exception": false,
     "start_time": "2023-08-27T19:16:52.762469",
     "status": "completed"
    },
    "tags": []
   },
   "source": [
    "# Data Visualization"
   ]
  },
  {
   "cell_type": "code",
   "execution_count": 21,
   "id": "1973c9ab",
   "metadata": {
    "execution": {
     "iopub.execute_input": "2023-08-27T19:16:52.842983Z",
     "iopub.status.busy": "2023-08-27T19:16:52.842223Z",
     "iopub.status.idle": "2023-08-27T19:16:53.182512Z",
     "shell.execute_reply": "2023-08-27T19:16:53.181092Z"
    },
    "papermill": {
     "duration": 0.371615,
     "end_time": "2023-08-27T19:16:53.186033",
     "exception": false,
     "start_time": "2023-08-27T19:16:52.814418",
     "status": "completed"
    },
    "tags": []
   },
   "outputs": [
    {
     "data": {
      "image/png": "[encoded data removed]",
      "text/plain": [
       "<Figure size 600x400 with 1 Axes>"
      ]
     },
     "metadata": {},
     "output_type": "display_data"
    }
   ],
   "source": [
    "# Visualizing the distribution of the target variable \"Churn\"\n",
    "plt.figure(figsize=(6, 4))\n",
    "sns.countplot(x=\"Churn\", data=final_merged_data,palette={\"No\": \"black\", \"Yes\": \"green\"})\n",
    "plt.title(\"Churn Distribution\")\n",
    "plt.show()"
   ]
  },
  {
   "cell_type": "code",
   "execution_count": 22,
   "id": "791ff05a",
   "metadata": {
    "execution": {
     "iopub.execute_input": "2023-08-27T19:16:53.246996Z",
     "iopub.status.busy": "2023-08-27T19:16:53.246292Z",
     "iopub.status.idle": "2023-08-27T19:16:53.888384Z",
     "shell.execute_reply": "2023-08-27T19:16:53.887017Z"
    },
    "papermill": {
     "duration": 0.675625,
     "end_time": "2023-08-27T19:16:53.891872",
     "exception": false,
     "start_time": "2023-08-27T19:16:53.216247",
     "status": "completed"
    },
    "tags": []
   },
   "outputs": [
    {
     "name": "stderr",
     "output_type": "stream",
     "text": [
      "/tmp/ipykernel_20/1537716794.py:8: UserWarning: \n",
      "\n",
      "`distplot` is a deprecated function and will be removed in seaborn v0.14.0.\n",
      "\n",
      "Please adapt your code to use either `displot` (a figure-level function with\n",
      "similar flexibility) or `histplot` (an axes-level function for histograms).\n",
      "\n",
      "For a guide to updating your code to use the new functions, please see\n",
      "https://gist.github.com/mwaskom/de44147ed2974457ad6372750bbe5751\n",
      "\n",
      "  sns.distplot(churn_one_hot)\n"
     ]
    },
    {
     "data": {
      "text/plain": [
       "<Axes: ylabel='Density'>"
      ]
     },
     "execution_count": 22,
     "metadata": {},
     "output_type": "execute_result"
    },
    {
     "data": {
      "image/png": "[encoded data removed]",
      "text/plain": [
       "<Figure size 640x480 with 1 Axes>"
      ]
     },
     "metadata": {},
     "output_type": "display_data"
    }
   ],
   "source": [
    "churn_one_hot = []\n",
    "list_churn = list(final_merged_data['Churn'])\n",
    "for val in list_churn:\n",
    "    if val == 'Yes':\n",
    "        churn_one_hot.append(1)\n",
    "    else:\n",
    "        churn_one_hot.append(0)\n",
    "sns.distplot(churn_one_hot)"
   ]
  },
  {
   "cell_type": "markdown",
   "id": "2b0429c1",
   "metadata": {
    "papermill": {
     "duration": 0.029795,
     "end_time": "2023-08-27T19:16:53.950670",
     "exception": false,
     "start_time": "2023-08-27T19:16:53.920875",
     "status": "completed"
    },
    "tags": []
   },
   "source": [
    "# We can see that the dataset is imbalanced with more customers not being churned "
   ]
  },
  {
   "cell_type": "code",
   "execution_count": 23,
   "id": "45f7462e",
   "metadata": {
    "execution": {
     "iopub.execute_input": "2023-08-27T19:16:54.018433Z",
     "iopub.status.busy": "2023-08-27T19:16:54.017967Z",
     "iopub.status.idle": "2023-08-27T19:16:54.393542Z",
     "shell.execute_reply": "2023-08-27T19:16:54.392136Z"
    },
    "papermill": {
     "duration": 0.41531,
     "end_time": "2023-08-27T19:16:54.396492",
     "exception": false,
     "start_time": "2023-08-27T19:16:53.981182",
     "status": "completed"
    },
    "tags": []
   },
   "outputs": [
    {
     "data": {
      "image/png": "[encoded data removed]",
      "text/plain": [
       "<Figure size 800x500 with 1 Axes>"
      ]
     },
     "metadata": {},
     "output_type": "display_data"
    }
   ],
   "source": [
    "# Explore churn rates based on contract type\n",
    "plt.figure(figsize=(8, 5))\n",
    "sns.countplot(x=\"Contract\", hue=\"Churn\", data=final_merged_data , palette={\"No\": \"black\", \"Yes\": \"green\"})\n",
    "plt.title(\"Churn Rates by Contract Type\")\n",
    "plt.xticks(rotation=45)\n",
    "plt.legend(title=\"Churn\", labels=[\"No\", \"Yes\"])\n",
    "plt.show()"
   ]
  },
  {
   "cell_type": "code",
   "execution_count": 24,
   "id": "1edf4b2c",
   "metadata": {
    "execution": {
     "iopub.execute_input": "2023-08-27T19:16:54.456708Z",
     "iopub.status.busy": "2023-08-27T19:16:54.456067Z",
     "iopub.status.idle": "2023-08-27T19:16:54.749795Z",
     "shell.execute_reply": "2023-08-27T19:16:54.748342Z"
    },
    "papermill": {
     "duration": 0.32749,
     "end_time": "2023-08-27T19:16:54.752865",
     "exception": false,
     "start_time": "2023-08-27T19:16:54.425375",
     "status": "completed"
    },
    "tags": []
   },
   "outputs": [
    {
     "data": {
      "image/png": "[encoded data removed]",
      "text/plain": [
       "<Figure size 800x500 with 1 Axes>"
      ]
     },
     "metadata": {},
     "output_type": "display_data"
    }
   ],
   "source": [
    "# Calculate churn percentages for each contract type\n",
    "contract_churn_percentages = final_merged_data.groupby([\"Contract\", \"Churn\"]).size()*100 / final_merged_data.groupby(\"Contract\").size()\n",
    "contract_churn_percentages = contract_churn_percentages.reset_index(name=\"Percentage\")\n",
    "\n",
    "plt.figure(figsize=(8, 5))\n",
    "sns.barplot(x=\"Contract\", y=\"Percentage\", hue=\"Churn\", data=contract_churn_percentages,palette={\"No\": \"black\", \"Yes\": \"green\"})\n",
    "plt.title(\"Churn Rates by Contract Type\")\n",
    "plt.xticks(rotation=45)\n",
    "plt.ylabel(\"Churn Percentage\")\n",
    "plt.legend(title=\"Churn\", labels=[\"No\", \"Yes\"])\n",
    "plt.show()"
   ]
  },
  {
   "cell_type": "markdown",
   "id": "2f04799a",
   "metadata": {
    "papermill": {
     "duration": 0.031313,
     "end_time": "2023-08-27T19:16:54.814969",
     "exception": false,
     "start_time": "2023-08-27T19:16:54.783656",
     "status": "completed"
    },
    "tags": []
   },
   "source": [
    "# We can see that the users are significantly more probable to churn out while taking monthly subscription compared to the two year and one year subscriptions"
   ]
  },
  {
   "cell_type": "code",
   "execution_count": 25,
   "id": "c043fc3d",
   "metadata": {
    "execution": {
     "iopub.execute_input": "2023-08-27T19:16:54.876862Z",
     "iopub.status.busy": "2023-08-27T19:16:54.876418Z",
     "iopub.status.idle": "2023-08-27T19:18:05.122242Z",
     "shell.execute_reply": "2023-08-27T19:18:05.120682Z"
    },
    "papermill": {
     "duration": 70.307128,
     "end_time": "2023-08-27T19:18:05.153659",
     "exception": false,
     "start_time": "2023-08-27T19:16:54.846531",
     "status": "completed"
    },
    "tags": []
   },
   "outputs": [
    {
     "data": {
      "image/png": "[encoded data removed]",
      "text/plain": [
       "<Figure size 800x500 with 1 Axes>"
      ]
     },
     "metadata": {},
     "output_type": "display_data"
    }
   ],
   "source": [
    "# Explore churn rates based on contract type\n",
    "plt.figure(figsize=(8, 5))\n",
    "sns.histplot(x=\"Churn\", hue=\"TotalCharges\", data=final_merged_data)\n",
    "plt.title(\"Churn Rates by Total Charges\")\n",
    "plt.xticks(rotation=45)\n",
    "plt.legend(title=\"Churn\", labels=[\"No\", \"Yes\"])\n",
    "plt.show()"
   ]
  },
  {
   "cell_type": "code",
   "execution_count": 26,
   "id": "d67410e2",
   "metadata": {
    "execution": {
     "iopub.execute_input": "2023-08-27T19:18:05.216686Z",
     "iopub.status.busy": "2023-08-27T19:18:05.216273Z",
     "iopub.status.idle": "2023-08-27T19:18:05.515307Z",
     "shell.execute_reply": "2023-08-27T19:18:05.513831Z"
    },
    "papermill": {
     "duration": 0.333309,
     "end_time": "2023-08-27T19:18:05.518062",
     "exception": false,
     "start_time": "2023-08-27T19:18:05.184753",
     "status": "completed"
    },
    "tags": []
   },
   "outputs": [
    {
     "data": {
      "image/png": "[encoded data removed]",
      "text/plain": [
       "<Figure size 800x600 with 1 Axes>"
      ]
     },
     "metadata": {},
     "output_type": "display_data"
    }
   ],
   "source": [
    "# Convert \"TotalCharges\" to numeric (ignore errors, converting non-numeric values to NaN)\n",
    "final_merged_data[\"TotalCharges\"] = pd.to_numeric(final_merged_data[\"TotalCharges\"], errors=\"coerce\")\n",
    "\n",
    "# Calculate the mean \"TotalCharges\" for each churn status\n",
    "mean_total_charges_by_churn = final_merged_data.groupby(\"Churn\")[\"TotalCharges\"].mean()\n",
    "\n",
    "# Create a bar plot to visualize the relationship between \"TotalCharges\" and \"Churn\"\n",
    "plt.figure(figsize=(8, 6))\n",
    "sns.barplot(x=mean_total_charges_by_churn.index, y=mean_total_charges_by_churn.values,palette={\"No\": \"black\", \"Yes\": \"green\"})\n",
    "plt.title(\"Average Total Charges by Churn Status\")\n",
    "plt.xlabel(\"Churn Status\")\n",
    "plt.ylabel(\"Average Total Charges\")\n",
    "plt.show()"
   ]
  },
  {
   "cell_type": "code",
   "execution_count": 27,
   "id": "9fd67e51",
   "metadata": {
    "execution": {
     "iopub.execute_input": "2023-08-27T19:18:05.583329Z",
     "iopub.status.busy": "2023-08-27T19:18:05.582915Z",
     "iopub.status.idle": "2023-08-27T19:18:06.767068Z",
     "shell.execute_reply": "2023-08-27T19:18:06.765618Z"
    },
    "papermill": {
     "duration": 1.219297,
     "end_time": "2023-08-27T19:18:06.769998",
     "exception": false,
     "start_time": "2023-08-27T19:18:05.550701",
     "status": "completed"
    },
    "tags": []
   },
   "outputs": [
    {
     "data": {
      "text/plain": [
       "<Axes: xlabel='Contract', ylabel='TotalCharges'>"
      ]
     },
     "execution_count": 27,
     "metadata": {},
     "output_type": "execute_result"
    },
    {
     "data": {
      "image/png": "[encoded data removed]",
      "text/plain": [
       "<Figure size 640x480 with 1 Axes>"
      ]
     },
     "metadata": {},
     "output_type": "display_data"
    }
   ],
   "source": [
    "sns.barplot(x=final_merged_data['Contract'],y=pd.to_numeric(final_merged_data['TotalCharges']), hue=final_merged_data['Churn'],palette={\"No\": \"black\", \"Yes\": \"green\"})"
   ]
  },
  {
   "cell_type": "markdown",
   "id": "f2d3bcb8",
   "metadata": {
    "papermill": {
     "duration": 0.030001,
     "end_time": "2023-08-27T19:18:06.829807",
     "exception": false,
     "start_time": "2023-08-27T19:18:06.799806",
     "status": "completed"
    },
    "tags": []
   },
   "source": [
    " # It can be inferred that the total charges have very less influence in the churn rate."
   ]
  },
  {
   "cell_type": "markdown",
   "id": "54774a50",
   "metadata": {
    "papermill": {
     "duration": 0.029908,
     "end_time": "2023-08-27T19:18:06.891069",
     "exception": false,
     "start_time": "2023-08-27T19:18:06.861161",
     "status": "completed"
    },
    "tags": []
   },
   "source": [
    "# Service Based Ananlysis"
   ]
  },
  {
   "cell_type": "code",
   "execution_count": 28,
   "id": "5617fdfa",
   "metadata": {
    "execution": {
     "iopub.execute_input": "2023-08-27T19:18:06.953399Z",
     "iopub.status.busy": "2023-08-27T19:18:06.952974Z",
     "iopub.status.idle": "2023-08-27T19:18:07.348713Z",
     "shell.execute_reply": "2023-08-27T19:18:07.347820Z"
    },
    "papermill": {
     "duration": 0.429423,
     "end_time": "2023-08-27T19:18:07.351044",
     "exception": false,
     "start_time": "2023-08-27T19:18:06.921621",
     "status": "completed"
    },
    "tags": []
   },
   "outputs": [
    {
     "data": {
      "image/png": "[encoded data removed]",
      "text/plain": [
       "<Figure size 800x500 with 1 Axes>"
      ]
     },
     "metadata": {},
     "output_type": "display_data"
    }
   ],
   "source": [
    "# Explore churn rates based on internet service type\n",
    "plt.figure(figsize=(8, 5))\n",
    "sns.countplot(x=\"InternetService\", hue=\"Churn\", data=final_merged_data,palette={\"No\": \"black\", \"Yes\": \"green\"})\n",
    "plt.title(\"Churn Rates by Internet Service Type\")\n",
    "plt.xticks(rotation=45)\n",
    "plt.legend(title=\"Churn\", labels=[\"No\", \"Yes\"])\n",
    "plt.show()"
   ]
  },
  {
   "cell_type": "code",
   "execution_count": 29,
   "id": "1e9feb43",
   "metadata": {
    "execution": {
     "iopub.execute_input": "2023-08-27T19:18:07.415281Z",
     "iopub.status.busy": "2023-08-27T19:18:07.414839Z",
     "iopub.status.idle": "2023-08-27T19:18:07.776318Z",
     "shell.execute_reply": "2023-08-27T19:18:07.774992Z"
    },
    "papermill": {
     "duration": 0.397793,
     "end_time": "2023-08-27T19:18:07.779234",
     "exception": false,
     "start_time": "2023-08-27T19:18:07.381441",
     "status": "completed"
    },
    "tags": []
   },
   "outputs": [
    {
     "data": {
      "image/png": "[encoded data removed]",
      "text/plain": [
       "<Figure size 800x500 with 1 Axes>"
      ]
     },
     "metadata": {},
     "output_type": "display_data"
    }
   ],
   "source": [
    "# Calculate churn percentages for each internet service type\n",
    "internet_churn_percentages = final_merged_data.groupby([\"InternetService\", \"Churn\"]).size() / final_merged_data.groupby(\"InternetService\").size()\n",
    "internet_churn_percentages = internet_churn_percentages.reset_index(name=\"Percentage\")\n",
    "\n",
    "plt.figure(figsize=(8, 5))\n",
    "sns.barplot(x=\"InternetService\", y=\"Percentage\", hue=\"Churn\", data=internet_churn_percentages, palette={\"No\": \"black\", \"Yes\": \"green\"})\n",
    "plt.title(\"Churn Rates by Internet Service Type\")\n",
    "plt.xticks(rotation=45)\n",
    "plt.ylabel(\"Churn Percentage\")\n",
    "plt.legend(title=\"Churn\", labels=[\"No\", \"Yes\"])\n",
    "plt.show()"
   ]
  },
  {
   "cell_type": "code",
   "execution_count": 30,
   "id": "178c4a23",
   "metadata": {
    "execution": {
     "iopub.execute_input": "2023-08-27T19:18:07.845629Z",
     "iopub.status.busy": "2023-08-27T19:18:07.845183Z",
     "iopub.status.idle": "2023-08-27T19:18:07.858418Z",
     "shell.execute_reply": "2023-08-27T19:18:07.857260Z"
    },
    "papermill": {
     "duration": 0.050095,
     "end_time": "2023-08-27T19:18:07.860946",
     "exception": false,
     "start_time": "2023-08-27T19:18:07.810851",
     "status": "completed"
    },
    "tags": []
   },
   "outputs": [
    {
     "data": {
      "text/html": [
       "<div>\n",
       "<style scoped>\n",
       "    .dataframe tbody tr th:only-of-type {\n",
       "        vertical-align: middle;\n",
       "    }\n",
       "\n",
       "    .dataframe tbody tr th {\n",
       "        vertical-align: top;\n",
       "    }\n",
       "\n",
       "    .dataframe thead th {\n",
       "        text-align: right;\n",
       "    }\n",
       "</style>\n",
       "<table border=\"1\" class=\"dataframe\">\n",
       "  <thead>\n",
       "    <tr style=\"text-align: right;\">\n",
       "      <th></th>\n",
       "      <th>InternetService</th>\n",
       "      <th>Churn</th>\n",
       "      <th>Percentage</th>\n",
       "    </tr>\n",
       "  </thead>\n",
       "  <tbody>\n",
       "    <tr>\n",
       "      <th>0</th>\n",
       "      <td>DSL</td>\n",
       "      <td>No</td>\n",
       "      <td>0.866413</td>\n",
       "    </tr>\n",
       "    <tr>\n",
       "      <th>1</th>\n",
       "      <td>DSL</td>\n",
       "      <td>Yes</td>\n",
       "      <td>0.133587</td>\n",
       "    </tr>\n",
       "    <tr>\n",
       "      <th>2</th>\n",
       "      <td>Fiber optic</td>\n",
       "      <td>No</td>\n",
       "      <td>0.760983</td>\n",
       "    </tr>\n",
       "    <tr>\n",
       "      <th>3</th>\n",
       "      <td>Fiber optic</td>\n",
       "      <td>Yes</td>\n",
       "      <td>0.239017</td>\n",
       "    </tr>\n",
       "    <tr>\n",
       "      <th>4</th>\n",
       "      <td>No</td>\n",
       "      <td>No</td>\n",
       "      <td>0.924080</td>\n",
       "    </tr>\n",
       "    <tr>\n",
       "      <th>5</th>\n",
       "      <td>No</td>\n",
       "      <td>Yes</td>\n",
       "      <td>0.075920</td>\n",
       "    </tr>\n",
       "  </tbody>\n",
       "</table>\n",
       "</div>"
      ],
      "text/plain": [
       "  InternetService Churn  Percentage\n",
       "0             DSL    No    0.866413\n",
       "1             DSL   Yes    0.133587\n",
       "2     Fiber optic    No    0.760983\n",
       "3     Fiber optic   Yes    0.239017\n",
       "4              No    No    0.924080\n",
       "5              No   Yes    0.075920"
      ]
     },
     "execution_count": 30,
     "metadata": {},
     "output_type": "execute_result"
    }
   ],
   "source": [
    "internet_churn_percentages"
   ]
  },
  {
   "cell_type": "code",
   "execution_count": 31,
   "id": "94c75974",
   "metadata": {
    "execution": {
     "iopub.execute_input": "2023-08-27T19:18:07.926462Z",
     "iopub.status.busy": "2023-08-27T19:18:07.926001Z",
     "iopub.status.idle": "2023-08-27T19:18:07.953471Z",
     "shell.execute_reply": "2023-08-27T19:18:07.952289Z"
    },
    "papermill": {
     "duration": 0.063414,
     "end_time": "2023-08-27T19:18:07.956080",
     "exception": false,
     "start_time": "2023-08-27T19:18:07.892666",
     "status": "completed"
    },
    "tags": []
   },
   "outputs": [
    {
     "data": {
      "text/html": [
       "<div>\n",
       "<style scoped>\n",
       "    .dataframe tbody tr th:only-of-type {\n",
       "        vertical-align: middle;\n",
       "    }\n",
       "\n",
       "    .dataframe tbody tr th {\n",
       "        vertical-align: top;\n",
       "    }\n",
       "\n",
       "    .dataframe thead th {\n",
       "        text-align: right;\n",
       "    }\n",
       "</style>\n",
       "<table border=\"1\" class=\"dataframe\">\n",
       "  <thead>\n",
       "    <tr style=\"text-align: right;\">\n",
       "      <th>Churn</th>\n",
       "      <th>No</th>\n",
       "      <th>Yes</th>\n",
       "    </tr>\n",
       "    <tr>\n",
       "      <th>InternetService</th>\n",
       "      <th></th>\n",
       "      <th></th>\n",
       "    </tr>\n",
       "  </thead>\n",
       "  <tbody>\n",
       "    <tr>\n",
       "      <th>DSL</th>\n",
       "      <td>0.866413</td>\n",
       "      <td>0.133587</td>\n",
       "    </tr>\n",
       "    <tr>\n",
       "      <th>Fiber optic</th>\n",
       "      <td>0.760983</td>\n",
       "      <td>0.239017</td>\n",
       "    </tr>\n",
       "    <tr>\n",
       "      <th>No</th>\n",
       "      <td>0.924080</td>\n",
       "      <td>0.075920</td>\n",
       "    </tr>\n",
       "  </tbody>\n",
       "</table>\n",
       "</div>"
      ],
      "text/plain": [
       "Churn                  No       Yes\n",
       "InternetService                    \n",
       "DSL              0.866413  0.133587\n",
       "Fiber optic      0.760983  0.239017\n",
       "No               0.924080  0.075920"
      ]
     },
     "execution_count": 31,
     "metadata": {},
     "output_type": "execute_result"
    }
   ],
   "source": [
    "crosstab_result_int = pd.crosstab(index=internet_churn_percentages['InternetService'], columns=internet_churn_percentages['Churn'], values=internet_churn_percentages['Percentage'], aggfunc='first')\n",
    "crosstab_result_int"
   ]
  },
  {
   "cell_type": "code",
   "execution_count": 32,
   "id": "2e1010a9",
   "metadata": {
    "execution": {
     "iopub.execute_input": "2023-08-27T19:18:08.022705Z",
     "iopub.status.busy": "2023-08-27T19:18:08.022258Z",
     "iopub.status.idle": "2023-08-27T19:18:08.364487Z",
     "shell.execute_reply": "2023-08-27T19:18:08.363294Z"
    },
    "papermill": {
     "duration": 0.379826,
     "end_time": "2023-08-27T19:18:08.367452",
     "exception": false,
     "start_time": "2023-08-27T19:18:07.987626",
     "status": "completed"
    },
    "tags": []
   },
   "outputs": [
    {
     "data": {
      "image/png": "[encoded data removed]",
      "text/plain": [
       "<Figure size 800x500 with 1 Axes>"
      ]
     },
     "metadata": {},
     "output_type": "display_data"
    }
   ],
   "source": [
    "# Filter the data for churn = \"Yes\"\n",
    "churn_yes_data = final_merged_data[final_merged_data[\"Churn\"] == \"Yes\"]\n",
    "\n",
    "# Calculate churn percentages for each internet service type\n",
    "in_churn_percentages = churn_yes_data.groupby([\"InternetService\", \"Churn\"]).size() / len(churn_yes_data)\n",
    "in_churn_percentages = in_churn_percentages.reset_index(name=\"Percentage\")\n",
    "\n",
    "plt.figure(figsize=(8, 5))\n",
    "sns.barplot(x=\"InternetService\", y=\"Percentage\", hue=\"Churn\", data=in_churn_percentages, palette={ \"Yes\": \"green\"})\n",
    "plt.title(\"Churn Rates by Internet Service,When Churn = Yes\")\n",
    "plt.xticks(rotation=45)\n",
    "plt.ylabel(\"Churn Percentage\")\n",
    "plt.legend(title=\"Churn\", labels=[\"No\", \"Yes\"])\n",
    "plt.show()"
   ]
  },
  {
   "cell_type": "code",
   "execution_count": 33,
   "id": "0f4ea426",
   "metadata": {
    "execution": {
     "iopub.execute_input": "2023-08-27T19:18:08.434961Z",
     "iopub.status.busy": "2023-08-27T19:18:08.434476Z",
     "iopub.status.idle": "2023-08-27T19:18:08.446215Z",
     "shell.execute_reply": "2023-08-27T19:18:08.445002Z"
    },
    "papermill": {
     "duration": 0.048885,
     "end_time": "2023-08-27T19:18:08.448801",
     "exception": false,
     "start_time": "2023-08-27T19:18:08.399916",
     "status": "completed"
    },
    "tags": []
   },
   "outputs": [
    {
     "data": {
      "text/html": [
       "<div>\n",
       "<style scoped>\n",
       "    .dataframe tbody tr th:only-of-type {\n",
       "        vertical-align: middle;\n",
       "    }\n",
       "\n",
       "    .dataframe tbody tr th {\n",
       "        vertical-align: top;\n",
       "    }\n",
       "\n",
       "    .dataframe thead th {\n",
       "        text-align: right;\n",
       "    }\n",
       "</style>\n",
       "<table border=\"1\" class=\"dataframe\">\n",
       "  <thead>\n",
       "    <tr style=\"text-align: right;\">\n",
       "      <th></th>\n",
       "      <th>InternetService</th>\n",
       "      <th>Churn</th>\n",
       "      <th>Percentage</th>\n",
       "    </tr>\n",
       "  </thead>\n",
       "  <tbody>\n",
       "    <tr>\n",
       "      <th>0</th>\n",
       "      <td>DSL</td>\n",
       "      <td>Yes</td>\n",
       "      <td>0.346134</td>\n",
       "    </tr>\n",
       "    <tr>\n",
       "      <th>1</th>\n",
       "      <td>Fiber optic</td>\n",
       "      <td>Yes</td>\n",
       "      <td>0.585366</td>\n",
       "    </tr>\n",
       "    <tr>\n",
       "      <th>2</th>\n",
       "      <td>No</td>\n",
       "      <td>Yes</td>\n",
       "      <td>0.068500</td>\n",
       "    </tr>\n",
       "  </tbody>\n",
       "</table>\n",
       "</div>"
      ],
      "text/plain": [
       "  InternetService Churn  Percentage\n",
       "0             DSL   Yes    0.346134\n",
       "1     Fiber optic   Yes    0.585366\n",
       "2              No   Yes    0.068500"
      ]
     },
     "execution_count": 33,
     "metadata": {},
     "output_type": "execute_result"
    }
   ],
   "source": [
    "in_churn_percentages"
   ]
  },
  {
   "cell_type": "markdown",
   "id": "96cf66b8",
   "metadata": {
    "papermill": {
     "duration": 0.032603,
     "end_time": "2023-08-27T19:18:08.514083",
     "exception": false,
     "start_time": "2023-08-27T19:18:08.481480",
     "status": "completed"
    },
    "tags": []
   },
   "source": [
    "# We could understand from this distribution that the customers opting for fiber optic service type are more likely to churn out"
   ]
  },
  {
   "cell_type": "code",
   "execution_count": 34,
   "id": "7b9f63d8",
   "metadata": {
    "execution": {
     "iopub.execute_input": "2023-08-27T19:18:08.585013Z",
     "iopub.status.busy": "2023-08-27T19:18:08.583842Z",
     "iopub.status.idle": "2023-08-27T19:18:08.949486Z",
     "shell.execute_reply": "2023-08-27T19:18:08.948119Z"
    },
    "papermill": {
     "duration": 0.402819,
     "end_time": "2023-08-27T19:18:08.951933",
     "exception": false,
     "start_time": "2023-08-27T19:18:08.549114",
     "status": "completed"
    },
    "tags": []
   },
   "outputs": [
    {
     "data": {
      "image/png": "[encoded data removed]",
      "text/plain": [
       "<Figure size 800x500 with 1 Axes>"
      ]
     },
     "metadata": {},
     "output_type": "display_data"
    }
   ],
   "source": [
    "# Explore churn rates based on phoneservice type\n",
    "plt.figure(figsize=(8, 5))\n",
    "sns.countplot(x=\"PhoneService\", hue=\"Churn\", data=final_merged_data,palette={\"No\": \"black\", \"Yes\": \"green\"})\n",
    "plt.title(\"Churn Rates by Phone Service Type\")\n",
    "plt.xticks(rotation=45)\n",
    "plt.legend(title=\"Churn\", labels=[\"No\", \"Yes\"])\n",
    "plt.show()"
   ]
  },
  {
   "cell_type": "code",
   "execution_count": 35,
   "id": "376bd2d0",
   "metadata": {
    "execution": {
     "iopub.execute_input": "2023-08-27T19:18:09.021923Z",
     "iopub.status.busy": "2023-08-27T19:18:09.020968Z",
     "iopub.status.idle": "2023-08-27T19:18:09.336465Z",
     "shell.execute_reply": "2023-08-27T19:18:09.335187Z"
    },
    "papermill": {
     "duration": 0.354491,
     "end_time": "2023-08-27T19:18:09.339239",
     "exception": false,
     "start_time": "2023-08-27T19:18:08.984748",
     "status": "completed"
    },
    "tags": []
   },
   "outputs": [
    {
     "data": {
      "image/png": "[encoded data removed]",
      "text/plain": [
       "<Figure size 800x500 with 1 Axes>"
      ]
     },
     "metadata": {},
     "output_type": "display_data"
    }
   ],
   "source": [
    "# Calculate churn percentages for each phone service type\n",
    "phone_churn_percentages = final_merged_data.groupby([\"PhoneService\", \"Churn\"]).size() / final_merged_data.groupby(\"PhoneService\").size()\n",
    "phone_churn_percentages = phone_churn_percentages.reset_index(name=\"Percentage\")\n",
    "\n",
    "plt.figure(figsize=(8, 5))\n",
    "sns.barplot(x=\"PhoneService\", y=\"Percentage\", hue=\"Churn\", data=phone_churn_percentages, palette={\"No\": \"black\", \"Yes\": \"green\"})\n",
    "plt.title(\"Churn Rates by Phone Service Type\")\n",
    "plt.xticks(rotation=45)\n",
    "plt.ylabel(\"Churn Percentage\")\n",
    "plt.legend(title=\"Churn\", labels=[\"No\", \"Yes\"])\n",
    "plt.show()"
   ]
  },
  {
   "cell_type": "code",
   "execution_count": 36,
   "id": "6c85371e",
   "metadata": {
    "execution": {
     "iopub.execute_input": "2023-08-27T19:18:09.410399Z",
     "iopub.status.busy": "2023-08-27T19:18:09.409699Z",
     "iopub.status.idle": "2023-08-27T19:18:09.420333Z",
     "shell.execute_reply": "2023-08-27T19:18:09.419314Z"
    },
    "papermill": {
     "duration": 0.049299,
     "end_time": "2023-08-27T19:18:09.422809",
     "exception": false,
     "start_time": "2023-08-27T19:18:09.373510",
     "status": "completed"
    },
    "tags": []
   },
   "outputs": [
    {
     "data": {
      "text/html": [
       "<div>\n",
       "<style scoped>\n",
       "    .dataframe tbody tr th:only-of-type {\n",
       "        vertical-align: middle;\n",
       "    }\n",
       "\n",
       "    .dataframe tbody tr th {\n",
       "        vertical-align: top;\n",
       "    }\n",
       "\n",
       "    .dataframe thead th {\n",
       "        text-align: right;\n",
       "    }\n",
       "</style>\n",
       "<table border=\"1\" class=\"dataframe\">\n",
       "  <thead>\n",
       "    <tr style=\"text-align: right;\">\n",
       "      <th></th>\n",
       "      <th>PhoneService</th>\n",
       "      <th>Churn</th>\n",
       "      <th>Percentage</th>\n",
       "    </tr>\n",
       "  </thead>\n",
       "  <tbody>\n",
       "    <tr>\n",
       "      <th>0</th>\n",
       "      <td>No</td>\n",
       "      <td>No</td>\n",
       "      <td>0.863636</td>\n",
       "    </tr>\n",
       "    <tr>\n",
       "      <th>1</th>\n",
       "      <td>No</td>\n",
       "      <td>Yes</td>\n",
       "      <td>0.136364</td>\n",
       "    </tr>\n",
       "    <tr>\n",
       "      <th>2</th>\n",
       "      <td>Yes</td>\n",
       "      <td>No</td>\n",
       "      <td>0.830879</td>\n",
       "    </tr>\n",
       "    <tr>\n",
       "      <th>3</th>\n",
       "      <td>Yes</td>\n",
       "      <td>Yes</td>\n",
       "      <td>0.169121</td>\n",
       "    </tr>\n",
       "  </tbody>\n",
       "</table>\n",
       "</div>"
      ],
      "text/plain": [
       "  PhoneService Churn  Percentage\n",
       "0           No    No    0.863636\n",
       "1           No   Yes    0.136364\n",
       "2          Yes    No    0.830879\n",
       "3          Yes   Yes    0.169121"
      ]
     },
     "execution_count": 36,
     "metadata": {},
     "output_type": "execute_result"
    }
   ],
   "source": [
    "phone_churn_percentages"
   ]
  },
  {
   "cell_type": "code",
   "execution_count": 37,
   "id": "950f1919",
   "metadata": {
    "execution": {
     "iopub.execute_input": "2023-08-27T19:18:09.493141Z",
     "iopub.status.busy": "2023-08-27T19:18:09.492198Z",
     "iopub.status.idle": "2023-08-27T19:18:09.515056Z",
     "shell.execute_reply": "2023-08-27T19:18:09.513334Z"
    },
    "papermill": {
     "duration": 0.061233,
     "end_time": "2023-08-27T19:18:09.517711",
     "exception": false,
     "start_time": "2023-08-27T19:18:09.456478",
     "status": "completed"
    },
    "tags": []
   },
   "outputs": [
    {
     "data": {
      "text/html": [
       "<div>\n",
       "<style scoped>\n",
       "    .dataframe tbody tr th:only-of-type {\n",
       "        vertical-align: middle;\n",
       "    }\n",
       "\n",
       "    .dataframe tbody tr th {\n",
       "        vertical-align: top;\n",
       "    }\n",
       "\n",
       "    .dataframe thead th {\n",
       "        text-align: right;\n",
       "    }\n",
       "</style>\n",
       "<table border=\"1\" class=\"dataframe\">\n",
       "  <thead>\n",
       "    <tr style=\"text-align: right;\">\n",
       "      <th>Churn</th>\n",
       "      <th>No</th>\n",
       "      <th>Yes</th>\n",
       "    </tr>\n",
       "    <tr>\n",
       "      <th>PhoneService</th>\n",
       "      <th></th>\n",
       "      <th></th>\n",
       "    </tr>\n",
       "  </thead>\n",
       "  <tbody>\n",
       "    <tr>\n",
       "      <th>No</th>\n",
       "      <td>0.863636</td>\n",
       "      <td>0.136364</td>\n",
       "    </tr>\n",
       "    <tr>\n",
       "      <th>Yes</th>\n",
       "      <td>0.830879</td>\n",
       "      <td>0.169121</td>\n",
       "    </tr>\n",
       "  </tbody>\n",
       "</table>\n",
       "</div>"
      ],
      "text/plain": [
       "Churn               No       Yes\n",
       "PhoneService                    \n",
       "No            0.863636  0.136364\n",
       "Yes           0.830879  0.169121"
      ]
     },
     "execution_count": 37,
     "metadata": {},
     "output_type": "execute_result"
    }
   ],
   "source": [
    "crosstab_result_p = pd.crosstab(index=phone_churn_percentages['PhoneService'], columns=phone_churn_percentages['Churn'], values=phone_churn_percentages['Percentage'], aggfunc='first')\n",
    "crosstab_result_p"
   ]
  },
  {
   "cell_type": "code",
   "execution_count": 38,
   "id": "67dde264",
   "metadata": {
    "execution": {
     "iopub.execute_input": "2023-08-27T19:18:09.590583Z",
     "iopub.status.busy": "2023-08-27T19:18:09.590165Z",
     "iopub.status.idle": "2023-08-27T19:18:09.878477Z",
     "shell.execute_reply": "2023-08-27T19:18:09.877103Z"
    },
    "papermill": {
     "duration": 0.328084,
     "end_time": "2023-08-27T19:18:09.881323",
     "exception": false,
     "start_time": "2023-08-27T19:18:09.553239",
     "status": "completed"
    },
    "tags": []
   },
   "outputs": [
    {
     "data": {
      "image/png": "[encoded data removed]",
      "text/plain": [
       "<Figure size 800x500 with 1 Axes>"
      ]
     },
     "metadata": {},
     "output_type": "display_data"
    }
   ],
   "source": [
    "# Filter the data for churn = \"Yes\"\n",
    "churn_yes_data_ps = final_merged_data[final_merged_data[\"Churn\"] == \"Yes\"]\n",
    "\n",
    "# Calculate churn percentages for each type of phone services\n",
    "ps_churn_percentages1 = churn_yes_data_ps.groupby(\"PhoneService\").size() / len(churn_yes_data_ps)\n",
    "ps_churn_percentages1 = ps_churn_percentages1.reset_index(name=\"Percentage\")\n",
    "\n",
    "# Plotting\n",
    "plt.figure(figsize=(8, 5))\n",
    "sns.barplot(x=\"PhoneService\", y=\"Percentage\", data=ps_churn_percentages1, color=\"green\")\n",
    "plt.title(\"Churn Percentage for Different Phone Service (Churn = Yes)\")\n",
    "plt.xticks(rotation=45)\n",
    "plt.ylabel(\"Churn Percentage\")\n",
    "plt.xlabel(\"Phone Service\")\n",
    "plt.show()"
   ]
  },
  {
   "cell_type": "code",
   "execution_count": 39,
   "id": "394850ac",
   "metadata": {
    "execution": {
     "iopub.execute_input": "2023-08-27T19:18:09.952161Z",
     "iopub.status.busy": "2023-08-27T19:18:09.951727Z",
     "iopub.status.idle": "2023-08-27T19:18:10.371065Z",
     "shell.execute_reply": "2023-08-27T19:18:10.369303Z"
    },
    "papermill": {
     "duration": 0.457722,
     "end_time": "2023-08-27T19:18:10.373299",
     "exception": true,
     "start_time": "2023-08-27T19:18:09.915577",
     "status": "failed"
    },
    "tags": []
   },
   "outputs": [
    {
     "ename": "NameError",
     "evalue": "name 'ph_churn_percentages' is not defined",
     "output_type": "error",
     "traceback": [
      "\u001b[0;31m---------------------------------------------------------------------------\u001b[0m",
      "\u001b[0;31mNameError\u001b[0m                                 Traceback (most recent call last)",
      "Cell \u001b[0;32mIn[39], line 1\u001b[0m\n\u001b[0;32m----> 1\u001b[0m \u001b[43mph_churn_percentages\u001b[49m\n",
      "\u001b[0;31mNameError\u001b[0m: name 'ph_churn_percentages' is not defined"
     ]
    }
   ],
   "source": [
    "ph_churn_percentages"
   ]
  },
  {
   "cell_type": "markdown",
   "id": "64840e4c",
   "metadata": {
    "papermill": {
     "duration": null,
     "end_time": null,
     "exception": null,
     "start_time": null,
     "status": "pending"
    },
    "tags": []
   },
   "source": [
    "# It can be inferred that when the Customer Opts for a Phone Service,then they are more likely to churn out based on the percentages"
   ]
  },
  {
   "cell_type": "code",
   "execution_count": null,
   "id": "f5913259",
   "metadata": {
    "execution": {
     "iopub.execute_input": "2023-08-27T18:13:00.815401Z",
     "iopub.status.busy": "2023-08-27T18:13:00.814241Z",
     "iopub.status.idle": "2023-08-27T18:13:01.349645Z",
     "shell.execute_reply": "2023-08-27T18:13:01.348026Z",
     "shell.execute_reply.started": "2023-08-27T18:13:00.815330Z"
    },
    "papermill": {
     "duration": null,
     "end_time": null,
     "exception": null,
     "start_time": null,
     "status": "pending"
    },
    "tags": []
   },
   "outputs": [],
   "source": [
    "# Explore churn rates based on Tech Support \n",
    "plt.figure(figsize=(8, 5))\n",
    "sns.countplot(x=\"TechSupport\", hue=\"Churn\", data=final_merged_data,palette={\"No\": \"black\", \"Yes\": \"green\"})\n",
    "plt.title(\"Churn Rates by Tech Support\")\n",
    "plt.xticks(rotation=45)\n",
    "plt.legend(title=\"Churn\", labels=[\"No\", \"Yes\"])\n",
    "plt.show()"
   ]
  },
  {
   "cell_type": "code",
   "execution_count": null,
   "id": "074cce83",
   "metadata": {
    "execution": {
     "iopub.execute_input": "2023-08-27T18:13:13.697557Z",
     "iopub.status.busy": "2023-08-27T18:13:13.697142Z",
     "iopub.status.idle": "2023-08-27T18:13:13.914445Z",
     "shell.execute_reply": "2023-08-27T18:13:13.912775Z",
     "shell.execute_reply.started": "2023-08-27T18:13:13.697523Z"
    },
    "papermill": {
     "duration": null,
     "end_time": null,
     "exception": null,
     "start_time": null,
     "status": "pending"
    },
    "tags": []
   },
   "outputs": [],
   "source": [
    "# Calculate churn percentages for each phone service type\n",
    "TechSupport_churn_percentages = final_merged_data.groupby([\"TechSupport\", \"Churn\"]).size() / final_merged_data.groupby(\"TechSupport\").size()\n",
    "TechSupport_churn_percentages = TechSupport_churn_percentages.reset_index(name=\"Percentage\")\n",
    "\n",
    "plt.figure(figsize=(8, 5))\n",
    "sns.barplot(x=\"TechSupport\", y=\"Percentage\", hue=\"Churn\", data=TechSupport_churn_percentages, palette={\"No\": \"black\", \"Yes\": \"green\"})\n",
    "plt.title(\"Churn Rates by TechSupport\")\n",
    "plt.xticks(rotation=45)\n",
    "plt.ylabel(\"Churn Percentage\")\n",
    "plt.legend(title=\"Churn\", labels=[\"No\", \"Yes\"])\n",
    "plt.show()"
   ]
  },
  {
   "cell_type": "code",
   "execution_count": null,
   "id": "5209bb54",
   "metadata": {
    "execution": {
     "iopub.execute_input": "2023-08-27T18:13:14.731614Z",
     "iopub.status.busy": "2023-08-27T18:13:14.731214Z",
     "iopub.status.idle": "2023-08-27T18:13:14.742369Z",
     "shell.execute_reply": "2023-08-27T18:13:14.741419Z",
     "shell.execute_reply.started": "2023-08-27T18:13:14.731581Z"
    },
    "papermill": {
     "duration": null,
     "end_time": null,
     "exception": null,
     "start_time": null,
     "status": "pending"
    },
    "tags": []
   },
   "outputs": [],
   "source": [
    "TechSupport_churn_percentages"
   ]
  },
  {
   "cell_type": "code",
   "execution_count": null,
   "id": "65b85a98",
   "metadata": {
    "execution": {
     "iopub.execute_input": "2023-08-27T18:13:16.014691Z",
     "iopub.status.busy": "2023-08-27T18:13:16.014328Z",
     "iopub.status.idle": "2023-08-27T18:13:16.035543Z",
     "shell.execute_reply": "2023-08-27T18:13:16.034457Z",
     "shell.execute_reply.started": "2023-08-27T18:13:16.014661Z"
    },
    "papermill": {
     "duration": null,
     "end_time": null,
     "exception": null,
     "start_time": null,
     "status": "pending"
    },
    "tags": []
   },
   "outputs": [],
   "source": [
    "crosstab_result_ts = pd.crosstab(index=TechSupport_churn_percentages['TechSupport'], columns=TechSupport_churn_percentages['Churn'], values=TechSupport_churn_percentages['Percentage'], aggfunc='first')\n",
    "crosstab_result_ts"
   ]
  },
  {
   "cell_type": "code",
   "execution_count": null,
   "id": "218842f4",
   "metadata": {
    "execution": {
     "iopub.execute_input": "2023-08-27T18:13:17.000628Z",
     "iopub.status.busy": "2023-08-27T18:13:17.000168Z",
     "iopub.status.idle": "2023-08-27T18:13:17.201829Z",
     "shell.execute_reply": "2023-08-27T18:13:17.200373Z",
     "shell.execute_reply.started": "2023-08-27T18:13:17.000590Z"
    },
    "papermill": {
     "duration": null,
     "end_time": null,
     "exception": null,
     "start_time": null,
     "status": "pending"
    },
    "tags": []
   },
   "outputs": [],
   "source": [
    "# Filter the data for churn = \"Yes\"\n",
    "churn_yes_data_ts = final_merged_data[final_merged_data[\"Churn\"] == \"Yes\"]\n",
    "\n",
    "# Calculate churn percentages for different Tech Support \n",
    "ts_churn_percentages1 = churn_yes_data_ts.groupby(\"TechSupport\").size() / len(churn_yes_data_ts)\n",
    "ts_churn_percentages1 = ts_churn_percentages1.reset_index(name=\"Percentage\")\n",
    "\n",
    "# Plotting\n",
    "plt.figure(figsize=(8, 5))\n",
    "sns.barplot(x=\"TechSupport\", y=\"Percentage\", data=ts_churn_percentages1, color=\"green\")\n",
    "plt.title(\"Churn Percentage for Different Tech Support (Churn = Yes)\")\n",
    "plt.xticks(rotation=45)\n",
    "plt.ylabel(\"Churn Percentage\")\n",
    "plt.xlabel(\"Tech Support\")\n",
    "plt.show()"
   ]
  },
  {
   "cell_type": "code",
   "execution_count": null,
   "id": "5dbb2630",
   "metadata": {
    "execution": {
     "iopub.execute_input": "2023-08-27T18:13:17.910315Z",
     "iopub.status.busy": "2023-08-27T18:13:17.909837Z",
     "iopub.status.idle": "2023-08-27T18:13:17.920471Z",
     "shell.execute_reply": "2023-08-27T18:13:17.919059Z",
     "shell.execute_reply.started": "2023-08-27T18:13:17.910276Z"
    },
    "papermill": {
     "duration": null,
     "end_time": null,
     "exception": null,
     "start_time": null,
     "status": "pending"
    },
    "tags": []
   },
   "outputs": [],
   "source": [
    "ts_churn_percentages1"
   ]
  },
  {
   "cell_type": "markdown",
   "id": "0f48a394",
   "metadata": {
    "papermill": {
     "duration": null,
     "end_time": null,
     "exception": null,
     "start_time": null,
     "status": "pending"
    },
    "tags": []
   },
   "source": [
    "# It can be inferred that customers who don't opt for Tech Support are more likely to churn out"
   ]
  },
  {
   "cell_type": "markdown",
   "id": "60f7c871",
   "metadata": {
    "papermill": {
     "duration": null,
     "end_time": null,
     "exception": null,
     "start_time": null,
     "status": "pending"
    },
    "tags": []
   },
   "source": [
    "# Demographic Analysis"
   ]
  },
  {
   "cell_type": "code",
   "execution_count": null,
   "id": "b71f852d",
   "metadata": {
    "execution": {
     "iopub.execute_input": "2023-08-27T18:15:29.663140Z",
     "iopub.status.busy": "2023-08-27T18:15:29.662682Z",
     "iopub.status.idle": "2023-08-27T18:15:29.919523Z",
     "shell.execute_reply": "2023-08-27T18:15:29.918321Z",
     "shell.execute_reply.started": "2023-08-27T18:15:29.663105Z"
    },
    "papermill": {
     "duration": null,
     "end_time": null,
     "exception": null,
     "start_time": null,
     "status": "pending"
    },
    "tags": []
   },
   "outputs": [],
   "source": [
    "# Analyze churn rates based on gender \n",
    "plt.figure(figsize=(8, 5))\n",
    "sns.countplot(x=\"gender\", hue=\"Churn\", data=final_merged_data,palette={\"No\": \"black\", \"Yes\": \"green\"})\n",
    "plt.title(\"Churn Rates by Gender\")\n",
    "plt.xticks(rotation=45)\n",
    "plt.legend(title=\"Churn\", labels=[\"No\", \"Yes\"])\n",
    "plt.show()"
   ]
  },
  {
   "cell_type": "code",
   "execution_count": null,
   "id": "4adf5c7c",
   "metadata": {
    "execution": {
     "iopub.execute_input": "2023-08-27T18:15:37.341845Z",
     "iopub.status.busy": "2023-08-27T18:15:37.340641Z",
     "iopub.status.idle": "2023-08-27T18:15:37.627264Z",
     "shell.execute_reply": "2023-08-27T18:15:37.625301Z",
     "shell.execute_reply.started": "2023-08-27T18:15:37.341801Z"
    },
    "papermill": {
     "duration": null,
     "end_time": null,
     "exception": null,
     "start_time": null,
     "status": "pending"
    },
    "tags": []
   },
   "outputs": [],
   "source": [
    "# Calculate churn percentages for each Gender\n",
    "gender_churn_percentages = final_merged_data.groupby([\"gender\", \"Churn\"]).size() / final_merged_data.groupby(\"gender\").size()\n",
    "gender_churn_percentages = gender_churn_percentages.reset_index(name=\"Percentage\")\n",
    "\n",
    "plt.figure(figsize=(8, 5))\n",
    "sns.barplot(x=\"gender\", y=\"Percentage\", hue=\"Churn\", data=gender_churn_percentages, palette={\"No\": \"black\", \"Yes\": \"green\"})\n",
    "plt.title(\"Churn Rates by gender\")\n",
    "plt.xticks(rotation=45)\n",
    "plt.ylabel(\"Churn Percentage\")\n",
    "plt.legend(title=\"Churn\", labels=[\"No\", \"Yes\"])\n",
    "plt.show()"
   ]
  },
  {
   "cell_type": "code",
   "execution_count": null,
   "id": "198ad43b",
   "metadata": {
    "execution": {
     "iopub.execute_input": "2023-08-27T18:15:38.214905Z",
     "iopub.status.busy": "2023-08-27T18:15:38.214500Z",
     "iopub.status.idle": "2023-08-27T18:15:38.225306Z",
     "shell.execute_reply": "2023-08-27T18:15:38.224415Z",
     "shell.execute_reply.started": "2023-08-27T18:15:38.214874Z"
    },
    "papermill": {
     "duration": null,
     "end_time": null,
     "exception": null,
     "start_time": null,
     "status": "pending"
    },
    "tags": []
   },
   "outputs": [],
   "source": [
    "gender_churn_percentages"
   ]
  },
  {
   "cell_type": "code",
   "execution_count": null,
   "id": "21c41b7e",
   "metadata": {
    "execution": {
     "iopub.execute_input": "2023-08-27T18:15:39.002849Z",
     "iopub.status.busy": "2023-08-27T18:15:39.001139Z",
     "iopub.status.idle": "2023-08-27T18:15:39.028183Z",
     "shell.execute_reply": "2023-08-27T18:15:39.025485Z",
     "shell.execute_reply.started": "2023-08-27T18:15:39.002777Z"
    },
    "papermill": {
     "duration": null,
     "end_time": null,
     "exception": null,
     "start_time": null,
     "status": "pending"
    },
    "tags": []
   },
   "outputs": [],
   "source": [
    "crosstab_result_g = pd.crosstab(index=gender_churn_percentages['gender'], columns=gender_churn_percentages['Churn'], values=gender_churn_percentages['Percentage'], aggfunc='first')\n",
    "crosstab_result_g"
   ]
  },
  {
   "cell_type": "markdown",
   "id": "aed82a2e",
   "metadata": {
    "papermill": {
     "duration": null,
     "end_time": null,
     "exception": null,
     "start_time": null,
     "status": "pending"
    },
    "tags": []
   },
   "source": [
    "# There  is no significant difference between the fraction of male users churning out compared to the females"
   ]
  },
  {
   "cell_type": "code",
   "execution_count": null,
   "id": "7b7456a2",
   "metadata": {
    "execution": {
     "iopub.execute_input": "2023-08-27T18:15:40.979039Z",
     "iopub.status.busy": "2023-08-27T18:15:40.978028Z",
     "iopub.status.idle": "2023-08-27T18:15:41.205716Z",
     "shell.execute_reply": "2023-08-27T18:15:41.204683Z",
     "shell.execute_reply.started": "2023-08-27T18:15:40.978988Z"
    },
    "papermill": {
     "duration": null,
     "end_time": null,
     "exception": null,
     "start_time": null,
     "status": "pending"
    },
    "tags": []
   },
   "outputs": [],
   "source": [
    "# Analyze churn rates based on senior citizen status\n",
    "plt.figure(figsize=(8, 5))\n",
    "sns.countplot(x=\"SeniorCitizen\", hue=\"Churn\", data=final_merged_data,palette={\"No\": \"black\", \"Yes\": \"green\"})\n",
    "plt.title(\"Churn Rates by SeniorCitizen\")\n",
    "plt.xticks(rotation=45)\n",
    "plt.legend(title=\"Churn\", labels=[\"No\", \"Yes\"])\n",
    "plt.show()"
   ]
  },
  {
   "cell_type": "code",
   "execution_count": null,
   "id": "133641a7",
   "metadata": {
    "execution": {
     "iopub.execute_input": "2023-08-27T18:15:43.836290Z",
     "iopub.status.busy": "2023-08-27T18:15:43.835153Z",
     "iopub.status.idle": "2023-08-27T18:15:44.092342Z",
     "shell.execute_reply": "2023-08-27T18:15:44.090913Z",
     "shell.execute_reply.started": "2023-08-27T18:15:43.836237Z"
    },
    "papermill": {
     "duration": null,
     "end_time": null,
     "exception": null,
     "start_time": null,
     "status": "pending"
    },
    "tags": []
   },
   "outputs": [],
   "source": [
    "senior_citizen_churn_percentages = final_merged_data.groupby([\"SeniorCitizen\", \"Churn\"]).size() / final_merged_data.groupby(\"SeniorCitizen\").size()\n",
    "senior_citizen_churn_percentages = senior_citizen_churn_percentages.reset_index(name=\"Percentage\")\n",
    "\n",
    "plt.figure(figsize=(8, 5))\n",
    "sns.barplot(x=\"SeniorCitizen\", y=\"Percentage\", hue=\"Churn\", data=senior_citizen_churn_percentages, palette={\"No\": \"black\", \"Yes\": \"green\"})\n",
    "plt.title(\"Average Churn Rates by Senior Citizen\")\n",
    "plt.xticks(rotation=45)\n",
    "plt.ylabel(\"Churn Percentage\")\n",
    "plt.legend(title=\"Churn\", labels=[\"No\", \"Yes\"])\n",
    "plt.show()"
   ]
  },
  {
   "cell_type": "code",
   "execution_count": null,
   "id": "6469ed35",
   "metadata": {
    "execution": {
     "iopub.execute_input": "2023-08-27T18:15:44.183296Z",
     "iopub.status.busy": "2023-08-27T18:15:44.182806Z",
     "iopub.status.idle": "2023-08-27T18:15:44.197619Z",
     "shell.execute_reply": "2023-08-27T18:15:44.196118Z",
     "shell.execute_reply.started": "2023-08-27T18:15:44.183258Z"
    },
    "papermill": {
     "duration": null,
     "end_time": null,
     "exception": null,
     "start_time": null,
     "status": "pending"
    },
    "tags": []
   },
   "outputs": [],
   "source": [
    "senior_citizen_churn_percentages"
   ]
  },
  {
   "cell_type": "code",
   "execution_count": null,
   "id": "b7cc1e80",
   "metadata": {
    "execution": {
     "iopub.execute_input": "2023-08-27T18:15:44.200389Z",
     "iopub.status.busy": "2023-08-27T18:15:44.199979Z",
     "iopub.status.idle": "2023-08-27T18:15:44.228265Z",
     "shell.execute_reply": "2023-08-27T18:15:44.226537Z",
     "shell.execute_reply.started": "2023-08-27T18:15:44.200357Z"
    },
    "papermill": {
     "duration": null,
     "end_time": null,
     "exception": null,
     "start_time": null,
     "status": "pending"
    },
    "tags": []
   },
   "outputs": [],
   "source": [
    "crosstab_result_sc = pd.crosstab(index=senior_citizen_churn_percentages['SeniorCitizen'], columns=senior_citizen_churn_percentages['Churn'], values=senior_citizen_churn_percentages['Percentage'], aggfunc='first')\n",
    "crosstab_result_sc"
   ]
  },
  {
   "cell_type": "code",
   "execution_count": null,
   "id": "4971728b",
   "metadata": {
    "execution": {
     "iopub.execute_input": "2023-08-27T18:21:02.096437Z",
     "iopub.status.busy": "2023-08-27T18:21:02.095961Z",
     "iopub.status.idle": "2023-08-27T18:21:02.311106Z",
     "shell.execute_reply": "2023-08-27T18:21:02.309729Z",
     "shell.execute_reply.started": "2023-08-27T18:21:02.096399Z"
    },
    "papermill": {
     "duration": null,
     "end_time": null,
     "exception": null,
     "start_time": null,
     "status": "pending"
    },
    "tags": []
   },
   "outputs": [],
   "source": [
    "# Filter the data for churn = \"Yes\"\n",
    "churn_yes_data = final_merged_data[final_merged_data[\"Churn\"] == \"Yes\"]\n",
    "\n",
    "sc_churn_percentages1 = churn_yes_data.groupby(\"SeniorCitizen\").size() / len(churn_yes_data)\n",
    "sc_churn_percentages1 = sc_churn_percentages1.reset_index(name=\"Percentage\")\n",
    "\n",
    "# Plotting\n",
    "plt.figure(figsize=(8, 5))\n",
    "sns.barplot(x=\"SeniorCitizen\", y=\"Percentage\", data=sc_churn_percentages1, color=\"green\")\n",
    "plt.title(\"Churn Percentage Vs Senior Citizen (Churn = Yes)\")\n",
    "plt.xticks(rotation=45)\n",
    "plt.ylabel(\"Churn Percentage\")\n",
    "plt.xlabel(\"SeniorCitizen\")\n",
    "plt.show()"
   ]
  },
  {
   "cell_type": "code",
   "execution_count": null,
   "id": "50d1b8a3",
   "metadata": {
    "execution": {
     "iopub.execute_input": "2023-08-27T18:29:35.926857Z",
     "iopub.status.busy": "2023-08-27T18:29:35.926460Z",
     "iopub.status.idle": "2023-08-27T18:29:35.938735Z",
     "shell.execute_reply": "2023-08-27T18:29:35.936831Z",
     "shell.execute_reply.started": "2023-08-27T18:29:35.926825Z"
    },
    "papermill": {
     "duration": null,
     "end_time": null,
     "exception": null,
     "start_time": null,
     "status": "pending"
    },
    "tags": []
   },
   "outputs": [],
   "source": [
    "sc_churn_percentages1"
   ]
  },
  {
   "cell_type": "markdown",
   "id": "f5fe8d1d",
   "metadata": {
    "papermill": {
     "duration": null,
     "end_time": null,
     "exception": null,
     "start_time": null,
     "status": "pending"
    },
    "tags": []
   },
   "source": [
    "# We can infer that when the customer is a senior citizen,they are more likely to churn out compared to when the customer is part of the younger population"
   ]
  },
  {
   "cell_type": "code",
   "execution_count": null,
   "id": "46f45c4d",
   "metadata": {
    "execution": {
     "iopub.execute_input": "2023-08-27T18:31:46.088887Z",
     "iopub.status.busy": "2023-08-27T18:31:46.087622Z",
     "iopub.status.idle": "2023-08-27T18:31:46.314908Z",
     "shell.execute_reply": "2023-08-27T18:31:46.314170Z",
     "shell.execute_reply.started": "2023-08-27T18:31:46.088506Z"
    },
    "papermill": {
     "duration": null,
     "end_time": null,
     "exception": null,
     "start_time": null,
     "status": "pending"
    },
    "tags": []
   },
   "outputs": [],
   "source": [
    "dep_citizen_churn_percentages = final_merged_data.groupby([\"Dependents\", \"Churn\"]).size() / final_merged_data.groupby(\"Dependents\").size()\n",
    "dep_citizen_churn_percentages = dep_citizen_churn_percentages.reset_index(name=\"Percentage\")\n",
    "\n",
    "plt.figure(figsize=(8, 5))\n",
    "sns.barplot(x=\"Dependents\", y=\"Percentage\", hue=\"Churn\", data=dep_citizen_churn_percentages, palette={\"No\": \"black\", \"Yes\": \"green\"})\n",
    "plt.title(\"Average Churn Rates by Dependents\")\n",
    "plt.xticks(rotation=45)\n",
    "plt.ylabel(\"Churn Percentage\")\n",
    "plt.legend(title=\"Churn\", labels=[\"No\", \"Yes\"])\n",
    "plt.show()"
   ]
  },
  {
   "cell_type": "code",
   "execution_count": null,
   "id": "bae6b0ff",
   "metadata": {
    "execution": {
     "iopub.execute_input": "2023-08-27T18:31:59.930910Z",
     "iopub.status.busy": "2023-08-27T18:31:59.930470Z",
     "iopub.status.idle": "2023-08-27T18:31:59.942668Z",
     "shell.execute_reply": "2023-08-27T18:31:59.941017Z",
     "shell.execute_reply.started": "2023-08-27T18:31:59.930842Z"
    },
    "papermill": {
     "duration": null,
     "end_time": null,
     "exception": null,
     "start_time": null,
     "status": "pending"
    },
    "tags": []
   },
   "outputs": [],
   "source": [
    "dep_citizen_churn_percentages"
   ]
  },
  {
   "cell_type": "code",
   "execution_count": null,
   "id": "afd7e878",
   "metadata": {
    "execution": {
     "iopub.execute_input": "2023-08-27T18:33:12.525903Z",
     "iopub.status.busy": "2023-08-27T18:33:12.525499Z",
     "iopub.status.idle": "2023-08-27T18:33:12.548187Z",
     "shell.execute_reply": "2023-08-27T18:33:12.546824Z",
     "shell.execute_reply.started": "2023-08-27T18:33:12.525871Z"
    },
    "papermill": {
     "duration": null,
     "end_time": null,
     "exception": null,
     "start_time": null,
     "status": "pending"
    },
    "tags": []
   },
   "outputs": [],
   "source": [
    "crosstab_result_sc = pd.crosstab(index=dep_citizen_churn_percentages['Dependents'], columns=senior_citizen_churn_percentages['Churn'], values=dep_citizen_churn_percentages['Percentage'], aggfunc='first')\n",
    "crosstab_result_sc"
   ]
  },
  {
   "cell_type": "code",
   "execution_count": null,
   "id": "99513103",
   "metadata": {
    "execution": {
     "iopub.execute_input": "2023-08-27T18:28:24.256362Z",
     "iopub.status.busy": "2023-08-27T18:28:24.255821Z",
     "iopub.status.idle": "2023-08-27T18:28:24.467047Z",
     "shell.execute_reply": "2023-08-27T18:28:24.466020Z",
     "shell.execute_reply.started": "2023-08-27T18:28:24.256320Z"
    },
    "papermill": {
     "duration": null,
     "end_time": null,
     "exception": null,
     "start_time": null,
     "status": "pending"
    },
    "tags": []
   },
   "outputs": [],
   "source": [
    "# Filter the data for churn = \"Yes\"\n",
    "churn_yes_data = final_merged_data[final_merged_data[\"Churn\"] == \"Yes\"]\n",
    "\n",
    "d_churn_percentages1 = churn_yes_data.groupby(\"Dependents\").size() / len(churn_yes_data)\n",
    "d_churn_percentages1 = d_churn_percentages1.reset_index(name=\"Percentage\")\n",
    "\n",
    "# Plotting\n",
    "plt.figure(figsize=(8, 5))\n",
    "sns.barplot(x=\"Dependents\", y=\"Percentage\", data=d_churn_percentages1, color=\"green\")\n",
    "plt.title(\"Churn Percentage Vs Dependents (Churn = Yes)\")\n",
    "plt.xticks(rotation=45)\n",
    "plt.ylabel(\"Churn Percentage\")\n",
    "plt.xlabel(\"Dependents\")\n",
    "plt.show()"
   ]
  },
  {
   "cell_type": "code",
   "execution_count": null,
   "id": "1868bdfa",
   "metadata": {
    "execution": {
     "iopub.execute_input": "2023-08-27T18:28:54.150794Z",
     "iopub.status.busy": "2023-08-27T18:28:54.150289Z",
     "iopub.status.idle": "2023-08-27T18:28:54.164331Z",
     "shell.execute_reply": "2023-08-27T18:28:54.162750Z",
     "shell.execute_reply.started": "2023-08-27T18:28:54.150746Z"
    },
    "papermill": {
     "duration": null,
     "end_time": null,
     "exception": null,
     "start_time": null,
     "status": "pending"
    },
    "tags": []
   },
   "outputs": [],
   "source": [
    "d_churn_percentages1"
   ]
  },
  {
   "cell_type": "markdown",
   "id": "81e5ff27",
   "metadata": {
    "papermill": {
     "duration": null,
     "end_time": null,
     "exception": null,
     "start_time": null,
     "status": "pending"
    },
    "tags": []
   },
   "source": [
    "# We can infer that when the customer had no dependents then he is more likely to churn out compared to those who have dependents"
   ]
  },
  {
   "cell_type": "markdown",
   "id": "f99b7465",
   "metadata": {
    "papermill": {
     "duration": null,
     "end_time": null,
     "exception": null,
     "start_time": null,
     "status": "pending"
    },
    "tags": []
   },
   "source": [
    "# Further Analysis "
   ]
  },
  {
   "cell_type": "code",
   "execution_count": null,
   "id": "f2f79c30",
   "metadata": {
    "execution": {
     "iopub.execute_input": "2023-08-27T18:15:53.051908Z",
     "iopub.status.busy": "2023-08-27T18:15:53.051494Z",
     "iopub.status.idle": "2023-08-27T18:15:53.344641Z",
     "shell.execute_reply": "2023-08-27T18:15:53.343080Z",
     "shell.execute_reply.started": "2023-08-27T18:15:53.051875Z"
    },
    "papermill": {
     "duration": null,
     "end_time": null,
     "exception": null,
     "start_time": null,
     "status": "pending"
    },
    "tags": []
   },
   "outputs": [],
   "source": [
    "# Correlation heatmap for numeric variables\n",
    "numeric_cols = [\"tenure\", \"MonthlyCharges\", \"TotalCharges\", \"SeniorCitizen\"]\n",
    "plt.figure(figsize=(10, 8))\n",
    "sns.heatmap(merged_data[numeric_cols].corr(), annot=True, cmap=\"coolwarm\")\n",
    "plt.title(\"Correlation Heatmap\")\n",
    "plt.show()"
   ]
  },
  {
   "cell_type": "markdown",
   "id": "ff0b3cbd",
   "metadata": {
    "papermill": {
     "duration": null,
     "end_time": null,
     "exception": null,
     "start_time": null,
     "status": "pending"
    },
    "tags": []
   },
   "source": [
    "# The Numerical features also have very little correlation with each other "
   ]
  },
  {
   "cell_type": "code",
   "execution_count": null,
   "id": "5255d7ee",
   "metadata": {
    "execution": {
     "iopub.execute_input": "2023-08-27T18:15:53.348132Z",
     "iopub.status.busy": "2023-08-27T18:15:53.347706Z",
     "iopub.status.idle": "2023-08-27T18:15:55.885212Z",
     "shell.execute_reply": "2023-08-27T18:15:55.884131Z",
     "shell.execute_reply.started": "2023-08-27T18:15:53.348097Z"
    },
    "papermill": {
     "duration": null,
     "end_time": null,
     "exception": null,
     "start_time": null,
     "status": "pending"
    },
    "tags": []
   },
   "outputs": [],
   "source": [
    "sns.scatterplot(x=final_merged_data['tenure'],y=final_merged_data['TotalCharges'],hue=final_merged_data['Churn'],palette={\"No\": \"black\", \"Yes\": \"green\"})"
   ]
  },
  {
   "cell_type": "markdown",
   "id": "4e9bcf63",
   "metadata": {
    "papermill": {
     "duration": null,
     "end_time": null,
     "exception": null,
     "start_time": null,
     "status": "pending"
    },
    "tags": []
   },
   "source": [
    "# When the Tenure is low and the Total Charges are high,more customers are expected to churn out"
   ]
  },
  {
   "cell_type": "code",
   "execution_count": null,
   "id": "18505885",
   "metadata": {
    "execution": {
     "iopub.execute_input": "2023-08-27T14:45:09.910854Z",
     "iopub.status.busy": "2023-08-27T14:45:09.910287Z",
     "iopub.status.idle": "2023-08-27T14:45:12.472769Z",
     "shell.execute_reply": "2023-08-27T14:45:12.471714Z",
     "shell.execute_reply.started": "2023-08-27T14:45:09.910806Z"
    },
    "papermill": {
     "duration": null,
     "end_time": null,
     "exception": null,
     "start_time": null,
     "status": "pending"
    },
    "tags": []
   },
   "outputs": [],
   "source": [
    "sns.scatterplot(x=final_merged_data['tenure'],y=final_merged_data['MonthlyCharges'],hue=final_merged_data['Churn'],palette={\"No\": \"black\", \"Yes\": \"green\"})"
   ]
  },
  {
   "cell_type": "markdown",
   "id": "858a8c3d",
   "metadata": {
    "papermill": {
     "duration": null,
     "end_time": null,
     "exception": null,
     "start_time": null,
     "status": "pending"
    },
    "tags": []
   },
   "source": [
    "# When the Tenure is low and the Monthly Charges are high,more customers are expected to churn out"
   ]
  },
  {
   "cell_type": "code",
   "execution_count": null,
   "id": "b8e28cb2",
   "metadata": {
    "execution": {
     "iopub.execute_input": "2023-08-27T14:45:29.358436Z",
     "iopub.status.busy": "2023-08-27T14:45:29.357997Z",
     "iopub.status.idle": "2023-08-27T14:45:31.952848Z",
     "shell.execute_reply": "2023-08-27T14:45:31.951925Z",
     "shell.execute_reply.started": "2023-08-27T14:45:29.358403Z"
    },
    "papermill": {
     "duration": null,
     "end_time": null,
     "exception": null,
     "start_time": null,
     "status": "pending"
    },
    "tags": []
   },
   "outputs": [],
   "source": [
    "sns.scatterplot(x=final_merged_data['MonthlyCharges'],y=final_merged_data['TotalCharges'],hue=final_merged_data['Churn'],palette={\"No\": \"black\", \"Yes\": \"green\"})"
   ]
  },
  {
   "cell_type": "markdown",
   "id": "d8d9db08",
   "metadata": {
    "papermill": {
     "duration": null,
     "end_time": null,
     "exception": null,
     "start_time": null,
     "status": "pending"
    },
    "tags": []
   },
   "source": [
    "# When Monthly Charges and Total Charges Increases,then the customers are more likely to churn out"
   ]
  }
 ],
 "metadata": {
  "kernelspec": {
   "display_name": "Python 3",
   "language": "python",
   "name": "python3"
  },
  "language_info": {
   "codemirror_mode": {
    "name": "ipython",
    "version": 3
   },
   "file_extension": ".py",
   "mimetype": "text/x-python",
   "name": "python",
   "nbconvert_exporter": "python",
   "pygments_lexer": "ipython3",
   "version": "3.10.12"
  },
  "papermill": {
   "default_parameters": {},
   "duration": 119.606695,
   "end_time": "2023-08-27T19:18:13.029836",
   "environment_variables": {},
   "exception": true,
   "input_path": "__notebook__.ipynb",
   "output_path": "__notebook__.ipynb",
   "parameters": {},
   "start_time": "2023-08-27T19:16:13.423141",
   "version": "2.4.0"
  }
 },
 "nbformat": 4,
 "nbformat_minor": 5
}
